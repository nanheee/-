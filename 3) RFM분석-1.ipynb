{
 "cells": [
  {
   "cell_type": "markdown",
   "metadata": {},
   "source": [
    "# 파이썬을 활용한 RFM 분석"
   ]
  },
  {
   "cell_type": "markdown",
   "metadata": {},
   "source": [
    "## 1. 데이터 불러오기(Data Import)"
   ]
  },
  {
   "cell_type": "markdown",
   "metadata": {},
   "source": [
    "온라인 소매거래 내역 데이터(Online Retail Data)\n",
    "\n",
    "- 영국에 기반한 온라인 소매 거래 사이트에서 2010년 12월 1일부터 2011년 12월 9일까지 1년 동안의 온라인 리테일 거래 내역 데이터\n",
    "\n",
    "데이터 컬럼(속성)\n",
    "- InvoiceNo : 송장번호\n",
    "- StockCode : 각 제품에 부여된 서로 구분되는 코드\n",
    "- Description : 각 제품에 대한 설명\n",
    "- Quantity : 구매 수량\n",
    "- InvoiceDate : 발송 날짜\n",
    "- UnitPrice : 개당 가격\n",
    "- CustomerID : 각 고객에게 유일하게 부여되는 고객 ID\n",
    "- Country : 배송 국가"
   ]
  },
  {
   "cell_type": "code",
   "execution_count": 1,
   "metadata": {
    "collapsed": true
   },
   "outputs": [],
   "source": [
    "# 관련 모듈 불러오기\n",
    "import pandas \n",
    "import numpy \n",
    "from datetime import datetime"
   ]
  },
  {
   "cell_type": "code",
   "execution_count": 6,
   "metadata": {
    "collapsed": true
   },
   "outputs": [],
   "source": [
    "# 'Online Retail.xlsx'파일 불러오기\n",
    "# 방법1. read_excel()함수를 활용하여 데이터를 url에서 직접 불러올 수 있음\n",
    "data = pandas.read_excel('https://archive.ics.uci.edu/ml/machine-learning-databases/00352/Online%20Retail.xlsx')\n",
    "\n",
    "# 방법2. 미리 받은 데이터 셋 불러옴 \n",
    "# data = pandas.read_excel('data/Online Retail.xlsx')"
   ]
  },
  {
   "cell_type": "code",
   "execution_count": 7,
   "metadata": {},
   "outputs": [
    {
     "data": {
      "text/html": [
       "<div>\n",
       "<style>\n",
       "    .dataframe thead tr:only-child th {\n",
       "        text-align: right;\n",
       "    }\n",
       "\n",
       "    .dataframe thead th {\n",
       "        text-align: left;\n",
       "    }\n",
       "\n",
       "    .dataframe tbody tr th {\n",
       "        vertical-align: top;\n",
       "    }\n",
       "</style>\n",
       "<table border=\"1\" class=\"dataframe\">\n",
       "  <thead>\n",
       "    <tr style=\"text-align: right;\">\n",
       "      <th></th>\n",
       "      <th>InvoiceNo</th>\n",
       "      <th>StockCode</th>\n",
       "      <th>Description</th>\n",
       "      <th>Quantity</th>\n",
       "      <th>InvoiceDate</th>\n",
       "      <th>UnitPrice</th>\n",
       "      <th>CustomerID</th>\n",
       "      <th>Country</th>\n",
       "    </tr>\n",
       "  </thead>\n",
       "  <tbody>\n",
       "    <tr>\n",
       "      <th>0</th>\n",
       "      <td>536365</td>\n",
       "      <td>85123A</td>\n",
       "      <td>WHITE HANGING HEART T-LIGHT HOLDER</td>\n",
       "      <td>6</td>\n",
       "      <td>2010-12-01 08:26:00</td>\n",
       "      <td>2.55</td>\n",
       "      <td>17850.0</td>\n",
       "      <td>United Kingdom</td>\n",
       "    </tr>\n",
       "    <tr>\n",
       "      <th>1</th>\n",
       "      <td>536365</td>\n",
       "      <td>71053</td>\n",
       "      <td>WHITE METAL LANTERN</td>\n",
       "      <td>6</td>\n",
       "      <td>2010-12-01 08:26:00</td>\n",
       "      <td>3.39</td>\n",
       "      <td>17850.0</td>\n",
       "      <td>United Kingdom</td>\n",
       "    </tr>\n",
       "    <tr>\n",
       "      <th>2</th>\n",
       "      <td>536365</td>\n",
       "      <td>84406B</td>\n",
       "      <td>CREAM CUPID HEARTS COAT HANGER</td>\n",
       "      <td>8</td>\n",
       "      <td>2010-12-01 08:26:00</td>\n",
       "      <td>2.75</td>\n",
       "      <td>17850.0</td>\n",
       "      <td>United Kingdom</td>\n",
       "    </tr>\n",
       "    <tr>\n",
       "      <th>3</th>\n",
       "      <td>536365</td>\n",
       "      <td>84029G</td>\n",
       "      <td>KNITTED UNION FLAG HOT WATER BOTTLE</td>\n",
       "      <td>6</td>\n",
       "      <td>2010-12-01 08:26:00</td>\n",
       "      <td>3.39</td>\n",
       "      <td>17850.0</td>\n",
       "      <td>United Kingdom</td>\n",
       "    </tr>\n",
       "    <tr>\n",
       "      <th>4</th>\n",
       "      <td>536365</td>\n",
       "      <td>84029E</td>\n",
       "      <td>RED WOOLLY HOTTIE WHITE HEART.</td>\n",
       "      <td>6</td>\n",
       "      <td>2010-12-01 08:26:00</td>\n",
       "      <td>3.39</td>\n",
       "      <td>17850.0</td>\n",
       "      <td>United Kingdom</td>\n",
       "    </tr>\n",
       "    <tr>\n",
       "      <th>5</th>\n",
       "      <td>536365</td>\n",
       "      <td>22752</td>\n",
       "      <td>SET 7 BABUSHKA NESTING BOXES</td>\n",
       "      <td>2</td>\n",
       "      <td>2010-12-01 08:26:00</td>\n",
       "      <td>7.65</td>\n",
       "      <td>17850.0</td>\n",
       "      <td>United Kingdom</td>\n",
       "    </tr>\n",
       "    <tr>\n",
       "      <th>6</th>\n",
       "      <td>536365</td>\n",
       "      <td>21730</td>\n",
       "      <td>GLASS STAR FROSTED T-LIGHT HOLDER</td>\n",
       "      <td>6</td>\n",
       "      <td>2010-12-01 08:26:00</td>\n",
       "      <td>4.25</td>\n",
       "      <td>17850.0</td>\n",
       "      <td>United Kingdom</td>\n",
       "    </tr>\n",
       "    <tr>\n",
       "      <th>7</th>\n",
       "      <td>536366</td>\n",
       "      <td>22633</td>\n",
       "      <td>HAND WARMER UNION JACK</td>\n",
       "      <td>6</td>\n",
       "      <td>2010-12-01 08:28:00</td>\n",
       "      <td>1.85</td>\n",
       "      <td>17850.0</td>\n",
       "      <td>United Kingdom</td>\n",
       "    </tr>\n",
       "    <tr>\n",
       "      <th>8</th>\n",
       "      <td>536366</td>\n",
       "      <td>22632</td>\n",
       "      <td>HAND WARMER RED POLKA DOT</td>\n",
       "      <td>6</td>\n",
       "      <td>2010-12-01 08:28:00</td>\n",
       "      <td>1.85</td>\n",
       "      <td>17850.0</td>\n",
       "      <td>United Kingdom</td>\n",
       "    </tr>\n",
       "    <tr>\n",
       "      <th>9</th>\n",
       "      <td>536367</td>\n",
       "      <td>84879</td>\n",
       "      <td>ASSORTED COLOUR BIRD ORNAMENT</td>\n",
       "      <td>32</td>\n",
       "      <td>2010-12-01 08:34:00</td>\n",
       "      <td>1.69</td>\n",
       "      <td>13047.0</td>\n",
       "      <td>United Kingdom</td>\n",
       "    </tr>\n",
       "  </tbody>\n",
       "</table>\n",
       "</div>"
      ],
      "text/plain": [
       "  InvoiceNo StockCode                          Description  Quantity  \\\n",
       "0    536365    85123A   WHITE HANGING HEART T-LIGHT HOLDER         6   \n",
       "1    536365     71053                  WHITE METAL LANTERN         6   \n",
       "2    536365    84406B       CREAM CUPID HEARTS COAT HANGER         8   \n",
       "3    536365    84029G  KNITTED UNION FLAG HOT WATER BOTTLE         6   \n",
       "4    536365    84029E       RED WOOLLY HOTTIE WHITE HEART.         6   \n",
       "5    536365     22752         SET 7 BABUSHKA NESTING BOXES         2   \n",
       "6    536365     21730    GLASS STAR FROSTED T-LIGHT HOLDER         6   \n",
       "7    536366     22633               HAND WARMER UNION JACK         6   \n",
       "8    536366     22632            HAND WARMER RED POLKA DOT         6   \n",
       "9    536367     84879        ASSORTED COLOUR BIRD ORNAMENT        32   \n",
       "\n",
       "          InvoiceDate  UnitPrice  CustomerID         Country  \n",
       "0 2010-12-01 08:26:00       2.55     17850.0  United Kingdom  \n",
       "1 2010-12-01 08:26:00       3.39     17850.0  United Kingdom  \n",
       "2 2010-12-01 08:26:00       2.75     17850.0  United Kingdom  \n",
       "3 2010-12-01 08:26:00       3.39     17850.0  United Kingdom  \n",
       "4 2010-12-01 08:26:00       3.39     17850.0  United Kingdom  \n",
       "5 2010-12-01 08:26:00       7.65     17850.0  United Kingdom  \n",
       "6 2010-12-01 08:26:00       4.25     17850.0  United Kingdom  \n",
       "7 2010-12-01 08:28:00       1.85     17850.0  United Kingdom  \n",
       "8 2010-12-01 08:28:00       1.85     17850.0  United Kingdom  \n",
       "9 2010-12-01 08:34:00       1.69     13047.0  United Kingdom  "
      ]
     },
     "execution_count": 7,
     "metadata": {},
     "output_type": "execute_result"
    }
   ],
   "source": [
    "# 데이터 확인\n",
    "data.head(10)"
   ]
  },
  {
   "cell_type": "code",
   "execution_count": 8,
   "metadata": {},
   "outputs": [
    {
     "data": {
      "text/plain": [
       "(541909, 8)"
      ]
     },
     "execution_count": 8,
     "metadata": {},
     "output_type": "execute_result"
    }
   ],
   "source": [
    "data.shape"
   ]
  },
  {
   "cell_type": "markdown",
   "metadata": {},
   "source": [
    "## 2. 데이터 전처리 (Data Preprocessing)"
   ]
  },
  {
   "cell_type": "code",
   "execution_count": 9,
   "metadata": {},
   "outputs": [
    {
     "data": {
      "text/plain": [
       "(10000, 8)"
      ]
     },
     "execution_count": 9,
     "metadata": {},
     "output_type": "execute_result"
    }
   ],
   "source": [
    "# 행 삭제 : 데이터가 너무 크므로 10,000개까지의 데이터만 포함해서 분석\n",
    "# use only last 10000 instances to save computational resources and time\n",
    "\n",
    "data = data[531909:]\n",
    "data.shape"
   ]
  },
  {
   "cell_type": "code",
   "execution_count": 10,
   "metadata": {},
   "outputs": [
    {
     "data": {
      "text/html": [
       "<div>\n",
       "<style>\n",
       "    .dataframe thead tr:only-child th {\n",
       "        text-align: right;\n",
       "    }\n",
       "\n",
       "    .dataframe thead th {\n",
       "        text-align: left;\n",
       "    }\n",
       "\n",
       "    .dataframe tbody tr th {\n",
       "        vertical-align: top;\n",
       "    }\n",
       "</style>\n",
       "<table border=\"1\" class=\"dataframe\">\n",
       "  <thead>\n",
       "    <tr style=\"text-align: right;\">\n",
       "      <th></th>\n",
       "      <th>InvoiceNo</th>\n",
       "      <th>StockCode</th>\n",
       "      <th>Description</th>\n",
       "      <th>Quantity</th>\n",
       "      <th>InvoiceDate</th>\n",
       "      <th>UnitPrice</th>\n",
       "      <th>CustomerID</th>\n",
       "      <th>Country</th>\n",
       "    </tr>\n",
       "  </thead>\n",
       "  <tbody>\n",
       "    <tr>\n",
       "      <th>531909</th>\n",
       "      <td>580979</td>\n",
       "      <td>23391</td>\n",
       "      <td>I LOVE LONDON MINI BACKPACK</td>\n",
       "      <td>4</td>\n",
       "      <td>2011-12-06 15:40:00</td>\n",
       "      <td>4.15</td>\n",
       "      <td>12362.0</td>\n",
       "      <td>Belgium</td>\n",
       "    </tr>\n",
       "    <tr>\n",
       "      <th>531910</th>\n",
       "      <td>580979</td>\n",
       "      <td>23204</td>\n",
       "      <td>CHARLOTTE BAG APPLES DESIGN</td>\n",
       "      <td>10</td>\n",
       "      <td>2011-12-06 15:40:00</td>\n",
       "      <td>0.85</td>\n",
       "      <td>12362.0</td>\n",
       "      <td>Belgium</td>\n",
       "    </tr>\n",
       "    <tr>\n",
       "      <th>531911</th>\n",
       "      <td>580979</td>\n",
       "      <td>21931</td>\n",
       "      <td>JUMBO STORAGE BAG SUKI</td>\n",
       "      <td>10</td>\n",
       "      <td>2011-12-06 15:40:00</td>\n",
       "      <td>2.08</td>\n",
       "      <td>12362.0</td>\n",
       "      <td>Belgium</td>\n",
       "    </tr>\n",
       "    <tr>\n",
       "      <th>531912</th>\n",
       "      <td>580979</td>\n",
       "      <td>23199</td>\n",
       "      <td>JUMBO BAG APPLES</td>\n",
       "      <td>10</td>\n",
       "      <td>2011-12-06 15:40:00</td>\n",
       "      <td>2.08</td>\n",
       "      <td>12362.0</td>\n",
       "      <td>Belgium</td>\n",
       "    </tr>\n",
       "    <tr>\n",
       "      <th>531913</th>\n",
       "      <td>580979</td>\n",
       "      <td>23202</td>\n",
       "      <td>JUMBO BAG VINTAGE LEAF</td>\n",
       "      <td>10</td>\n",
       "      <td>2011-12-06 15:40:00</td>\n",
       "      <td>2.08</td>\n",
       "      <td>12362.0</td>\n",
       "      <td>Belgium</td>\n",
       "    </tr>\n",
       "  </tbody>\n",
       "</table>\n",
       "</div>"
      ],
      "text/plain": [
       "       InvoiceNo StockCode                   Description  Quantity  \\\n",
       "531909    580979     23391   I LOVE LONDON MINI BACKPACK         4   \n",
       "531910    580979     23204   CHARLOTTE BAG APPLES DESIGN        10   \n",
       "531911    580979     21931        JUMBO STORAGE BAG SUKI        10   \n",
       "531912    580979     23199              JUMBO BAG APPLES        10   \n",
       "531913    580979     23202        JUMBO BAG VINTAGE LEAF        10   \n",
       "\n",
       "               InvoiceDate  UnitPrice  CustomerID  Country  \n",
       "531909 2011-12-06 15:40:00       4.15     12362.0  Belgium  \n",
       "531910 2011-12-06 15:40:00       0.85     12362.0  Belgium  \n",
       "531911 2011-12-06 15:40:00       2.08     12362.0  Belgium  \n",
       "531912 2011-12-06 15:40:00       2.08     12362.0  Belgium  \n",
       "531913 2011-12-06 15:40:00       2.08     12362.0  Belgium  "
      ]
     },
     "execution_count": 10,
     "metadata": {},
     "output_type": "execute_result"
    }
   ],
   "source": [
    "data.head()    # 마지막 10000행의 데이터만 추출된 것을 볼 수 있다"
   ]
  },
  {
   "cell_type": "code",
   "execution_count": 11,
   "metadata": {},
   "outputs": [
    {
     "data": {
      "text/html": [
       "<div>\n",
       "<style>\n",
       "    .dataframe thead tr:only-child th {\n",
       "        text-align: right;\n",
       "    }\n",
       "\n",
       "    .dataframe thead th {\n",
       "        text-align: left;\n",
       "    }\n",
       "\n",
       "    .dataframe tbody tr th {\n",
       "        vertical-align: top;\n",
       "    }\n",
       "</style>\n",
       "<table border=\"1\" class=\"dataframe\">\n",
       "  <thead>\n",
       "    <tr style=\"text-align: right;\">\n",
       "      <th></th>\n",
       "      <th>Quantity</th>\n",
       "      <th>InvoiceDate</th>\n",
       "      <th>UnitPrice</th>\n",
       "      <th>CustomerID</th>\n",
       "    </tr>\n",
       "  </thead>\n",
       "  <tbody>\n",
       "    <tr>\n",
       "      <th>531909</th>\n",
       "      <td>4</td>\n",
       "      <td>2011-12-06 15:40:00</td>\n",
       "      <td>4.15</td>\n",
       "      <td>12362.0</td>\n",
       "    </tr>\n",
       "    <tr>\n",
       "      <th>531910</th>\n",
       "      <td>10</td>\n",
       "      <td>2011-12-06 15:40:00</td>\n",
       "      <td>0.85</td>\n",
       "      <td>12362.0</td>\n",
       "    </tr>\n",
       "    <tr>\n",
       "      <th>531911</th>\n",
       "      <td>10</td>\n",
       "      <td>2011-12-06 15:40:00</td>\n",
       "      <td>2.08</td>\n",
       "      <td>12362.0</td>\n",
       "    </tr>\n",
       "    <tr>\n",
       "      <th>531912</th>\n",
       "      <td>10</td>\n",
       "      <td>2011-12-06 15:40:00</td>\n",
       "      <td>2.08</td>\n",
       "      <td>12362.0</td>\n",
       "    </tr>\n",
       "    <tr>\n",
       "      <th>531913</th>\n",
       "      <td>10</td>\n",
       "      <td>2011-12-06 15:40:00</td>\n",
       "      <td>2.08</td>\n",
       "      <td>12362.0</td>\n",
       "    </tr>\n",
       "  </tbody>\n",
       "</table>\n",
       "</div>"
      ],
      "text/plain": [
       "        Quantity         InvoiceDate  UnitPrice  CustomerID\n",
       "531909         4 2011-12-06 15:40:00       4.15     12362.0\n",
       "531910        10 2011-12-06 15:40:00       0.85     12362.0\n",
       "531911        10 2011-12-06 15:40:00       2.08     12362.0\n",
       "531912        10 2011-12-06 15:40:00       2.08     12362.0\n",
       "531913        10 2011-12-06 15:40:00       2.08     12362.0"
      ]
     },
     "execution_count": 11,
     "metadata": {},
     "output_type": "execute_result"
    }
   ],
   "source": [
    "# 분석에 불필요한 열 제거\n",
    "data = data[['Quantity', 'InvoiceDate','UnitPrice','CustomerID']]\n",
    "data.head()"
   ]
  },
  {
   "cell_type": "code",
   "execution_count": 12,
   "metadata": {},
   "outputs": [
    {
     "data": {
      "text/html": [
       "<div>\n",
       "<style>\n",
       "    .dataframe thead tr:only-child th {\n",
       "        text-align: right;\n",
       "    }\n",
       "\n",
       "    .dataframe thead th {\n",
       "        text-align: left;\n",
       "    }\n",
       "\n",
       "    .dataframe tbody tr th {\n",
       "        vertical-align: top;\n",
       "    }\n",
       "</style>\n",
       "<table border=\"1\" class=\"dataframe\">\n",
       "  <thead>\n",
       "    <tr style=\"text-align: right;\">\n",
       "      <th></th>\n",
       "      <th>Quantity</th>\n",
       "      <th>InvoiceDate</th>\n",
       "      <th>UnitPrice</th>\n",
       "      <th>CustomerID</th>\n",
       "    </tr>\n",
       "  </thead>\n",
       "  <tbody>\n",
       "    <tr>\n",
       "      <th>541908</th>\n",
       "      <td>3</td>\n",
       "      <td>2011-12-09 12:50:00</td>\n",
       "      <td>4.95</td>\n",
       "      <td>12680.0</td>\n",
       "    </tr>\n",
       "    <tr>\n",
       "      <th>541901</th>\n",
       "      <td>8</td>\n",
       "      <td>2011-12-09 12:50:00</td>\n",
       "      <td>1.95</td>\n",
       "      <td>12680.0</td>\n",
       "    </tr>\n",
       "    <tr>\n",
       "      <th>541895</th>\n",
       "      <td>12</td>\n",
       "      <td>2011-12-09 12:50:00</td>\n",
       "      <td>1.65</td>\n",
       "      <td>12680.0</td>\n",
       "    </tr>\n",
       "    <tr>\n",
       "      <th>541896</th>\n",
       "      <td>12</td>\n",
       "      <td>2011-12-09 12:50:00</td>\n",
       "      <td>1.65</td>\n",
       "      <td>12680.0</td>\n",
       "    </tr>\n",
       "    <tr>\n",
       "      <th>541897</th>\n",
       "      <td>4</td>\n",
       "      <td>2011-12-09 12:50:00</td>\n",
       "      <td>3.75</td>\n",
       "      <td>12680.0</td>\n",
       "    </tr>\n",
       "  </tbody>\n",
       "</table>\n",
       "</div>"
      ],
      "text/plain": [
       "        Quantity         InvoiceDate  UnitPrice  CustomerID\n",
       "541908         3 2011-12-09 12:50:00       4.95     12680.0\n",
       "541901         8 2011-12-09 12:50:00       1.95     12680.0\n",
       "541895        12 2011-12-09 12:50:00       1.65     12680.0\n",
       "541896        12 2011-12-09 12:50:00       1.65     12680.0\n",
       "541897         4 2011-12-09 12:50:00       3.75     12680.0"
      ]
     },
     "execution_count": 12,
     "metadata": {},
     "output_type": "execute_result"
    }
   ],
   "source": [
    "# 데이터를 'InvoiceDate'열을 기준으로 내림차순 정렬\n",
    "data = data.sort_values(by = ['InvoiceDate'], ascending = False)\n",
    "data.head()"
   ]
  },
  {
   "cell_type": "code",
   "execution_count": 13,
   "metadata": {},
   "outputs": [
    {
     "data": {
      "text/html": [
       "<div>\n",
       "<style>\n",
       "    .dataframe thead tr:only-child th {\n",
       "        text-align: right;\n",
       "    }\n",
       "\n",
       "    .dataframe thead th {\n",
       "        text-align: left;\n",
       "    }\n",
       "\n",
       "    .dataframe tbody tr th {\n",
       "        vertical-align: top;\n",
       "    }\n",
       "</style>\n",
       "<table border=\"1\" class=\"dataframe\">\n",
       "  <thead>\n",
       "    <tr style=\"text-align: right;\">\n",
       "      <th></th>\n",
       "      <th>Quantity</th>\n",
       "      <th>InvoiceDate</th>\n",
       "      <th>UnitPrice</th>\n",
       "      <th>CustomerID</th>\n",
       "      <th>TotalPrice</th>\n",
       "    </tr>\n",
       "  </thead>\n",
       "  <tbody>\n",
       "    <tr>\n",
       "      <th>541908</th>\n",
       "      <td>3</td>\n",
       "      <td>2011-12-09 12:50:00</td>\n",
       "      <td>4.95</td>\n",
       "      <td>12680.0</td>\n",
       "      <td>14.85</td>\n",
       "    </tr>\n",
       "    <tr>\n",
       "      <th>541901</th>\n",
       "      <td>8</td>\n",
       "      <td>2011-12-09 12:50:00</td>\n",
       "      <td>1.95</td>\n",
       "      <td>12680.0</td>\n",
       "      <td>15.60</td>\n",
       "    </tr>\n",
       "    <tr>\n",
       "      <th>541895</th>\n",
       "      <td>12</td>\n",
       "      <td>2011-12-09 12:50:00</td>\n",
       "      <td>1.65</td>\n",
       "      <td>12680.0</td>\n",
       "      <td>19.80</td>\n",
       "    </tr>\n",
       "    <tr>\n",
       "      <th>541896</th>\n",
       "      <td>12</td>\n",
       "      <td>2011-12-09 12:50:00</td>\n",
       "      <td>1.65</td>\n",
       "      <td>12680.0</td>\n",
       "      <td>19.80</td>\n",
       "    </tr>\n",
       "    <tr>\n",
       "      <th>541897</th>\n",
       "      <td>4</td>\n",
       "      <td>2011-12-09 12:50:00</td>\n",
       "      <td>3.75</td>\n",
       "      <td>12680.0</td>\n",
       "      <td>15.00</td>\n",
       "    </tr>\n",
       "  </tbody>\n",
       "</table>\n",
       "</div>"
      ],
      "text/plain": [
       "        Quantity         InvoiceDate  UnitPrice  CustomerID  TotalPrice\n",
       "541908         3 2011-12-09 12:50:00       4.95     12680.0       14.85\n",
       "541901         8 2011-12-09 12:50:00       1.95     12680.0       15.60\n",
       "541895        12 2011-12-09 12:50:00       1.65     12680.0       19.80\n",
       "541896        12 2011-12-09 12:50:00       1.65     12680.0       19.80\n",
       "541897         4 2011-12-09 12:50:00       3.75     12680.0       15.00"
      ]
     },
     "execution_count": 13,
     "metadata": {},
     "output_type": "execute_result"
    }
   ],
   "source": [
    "# 'TotalPrice'열을 새로 만들고 'UnitPrice'와 'Quantity'값을 곱해 그 값들을 저장 \n",
    "data['TotalPrice'] = data['UnitPrice'] * data['Quantity']\n",
    "data.head()"
   ]
  },
  {
   "cell_type": "code",
   "execution_count": 14,
   "metadata": {
    "collapsed": true
   },
   "outputs": [],
   "source": [
    "# 고객 ID(CustomerID) 중 고유한 값들만 골라내 저장\n",
    "unique_cid = data['CustomerID'].unique()\n",
    "\n",
    "# 고객 ID를 오름차순으로 정렬\n",
    "unique_cid.sort()"
   ]
  },
  {
   "cell_type": "code",
   "execution_count": 15,
   "metadata": {},
   "outputs": [
    {
     "data": {
      "text/plain": [
       "(264,)"
      ]
     },
     "execution_count": 15,
     "metadata": {},
     "output_type": "execute_result"
    }
   ],
   "source": [
    "unique_cid.shape"
   ]
  },
  {
   "cell_type": "code",
   "execution_count": 16,
   "metadata": {},
   "outputs": [
    {
     "data": {
      "text/plain": [
       "array([ 12347.,  12358.,  12362.,  12375.,  12423.])"
      ]
     },
     "execution_count": 16,
     "metadata": {},
     "output_type": "execute_result"
    }
   ],
   "source": [
    "unique_cid[:5]"
   ]
  },
  {
   "cell_type": "code",
   "execution_count": 17,
   "metadata": {},
   "outputs": [
    {
     "data": {
      "text/plain": [
       "(263,)"
      ]
     },
     "execution_count": 17,
     "metadata": {},
     "output_type": "execute_result"
    }
   ],
   "source": [
    "# 고객 ID 중 결측치(nan)값 제거\n",
    "unique_cid = unique_cid[numpy.logical_not(numpy.isnan(unique_cid))]\n",
    "unique_cid.shape"
   ]
  },
  {
   "cell_type": "markdown",
   "metadata": {},
   "source": [
    "## 3. 데이터 분석(Data Analysis) - RFM 지표 계산 "
   ]
  },
  {
   "cell_type": "markdown",
   "metadata": {},
   "source": [
    "### Recency 지표 계산\n",
    "Step 1 - 날짜"
   ]
  },
  {
   "cell_type": "code",
   "execution_count": 18,
   "metadata": {
    "collapsed": true
   },
   "outputs": [],
   "source": [
    "# 전체 고객 ID와 배송 날짜 데이터를 가져와 리스트에 저장\n",
    "whole_cid = list(data['CustomerID'])\n",
    "invoice_dates = list(data['InvoiceDate'])"
   ]
  },
  {
   "cell_type": "code",
   "execution_count": 19,
   "metadata": {},
   "outputs": [
    {
     "data": {
      "text/plain": [
       "(10000, 10000)"
      ]
     },
     "execution_count": 19,
     "metadata": {},
     "output_type": "execute_result"
    }
   ],
   "source": [
    "len(whole_cid), len(invoice_dates) # 데이터의 길이 확인"
   ]
  },
  {
   "cell_type": "markdown",
   "metadata": {},
   "source": [
    "Step 2 - 시간을 일로 변환"
   ]
  },
  {
   "cell_type": "code",
   "execution_count": 20,
   "metadata": {
    "collapsed": true
   },
   "outputs": [],
   "source": [
    "# 두 날짜 사이의 시간 차이를 일(day)로 표현해주는 함수를 정의\n",
    "def time_delta_calculator(past_date, current_date):\n",
    "    delta = current_date - past_date # 두 날짜 사이의 시간 차이를 계산\n",
    "    return delta.days                # 시간 차이를 일수(days)로 반환"
   ]
  },
  {
   "cell_type": "code",
   "execution_count": 21,
   "metadata": {
    "collapsed": true
   },
   "outputs": [],
   "source": [
    "# 현재 시각을 입력하고 이를 datetime형식으로 변환/ 최근거래 날짜 이후 아무 날짜로 설정해 주어도 무방함\n",
    "current_date = '2012-01-01' # 현재 날짜를 string 형태로 정의\n",
    "current_date = datetime.strptime(current_date, '%Y-%m-%d')"
   ]
  },
  {
   "cell_type": "code",
   "execution_count": 22,
   "metadata": {},
   "outputs": [
    {
     "data": {
      "text/plain": [
       "datetime.datetime(2012, 1, 1, 0, 0)"
      ]
     },
     "execution_count": 22,
     "metadata": {},
     "output_type": "execute_result"
    }
   ],
   "source": [
    "current_date    #(년, 월, 일, 시, 분)"
   ]
  },
  {
   "cell_type": "markdown",
   "metadata": {},
   "source": [
    "Step 3 - 각 고객의 Recency 지표 계산"
   ]
  },
  {
   "cell_type": "code",
   "execution_count": 23,
   "metadata": {
    "collapsed": true
   },
   "outputs": [],
   "source": [
    "recency = []        # Recency 지표를 담기 위한 리스트 생성\n",
    "\n",
    "# for문을 활용해 unique_cid 내에 있는 각각의 유니크한 고객 ID에 접근\n",
    "for cid in unique_cid:\n",
    "    for i in range(len(whole_cid)):\n",
    "        # 만약 두 고객 ID가 일치하면 그 고객 ID에 해당되는 날짜를 받아와 Recency 지표를 계산\n",
    "        if whole_cid[i] == cid:\n",
    "            date = str(invoice_dates[i])[:10]\n",
    "            date = datetime.strptime(date, '%Y-%m-%d')\n",
    "            days_passed = time_delta_calculator(date, current_date)\n",
    "            recency.append(days_passed)      # 계산된 Recency 지표를 리스트에 첨부\n",
    "            break            "
   ]
  },
  {
   "cell_type": "code",
   "execution_count": 24,
   "metadata": {},
   "outputs": [
    {
     "data": {
      "text/plain": [
       "263"
      ]
     },
     "execution_count": 24,
     "metadata": {},
     "output_type": "execute_result"
    }
   ],
   "source": [
    "len(recency)"
   ]
  },
  {
   "cell_type": "code",
   "execution_count": 25,
   "metadata": {},
   "outputs": [
    {
     "data": {
      "text/plain": [
       "[25, 24, 26, 25, 23, 23, 24, 25, 25, 24]"
      ]
     },
     "execution_count": 25,
     "metadata": {},
     "output_type": "execute_result"
    }
   ],
   "source": [
    "recency[:10]"
   ]
  },
  {
   "cell_type": "markdown",
   "metadata": {},
   "source": [
    "### Monetary 지표 계산\n",
    "각 고객의 거래 총액 계산"
   ]
  },
  {
   "cell_type": "code",
   "execution_count": 26,
   "metadata": {},
   "outputs": [
    {
     "data": {
      "text/html": [
       "<div>\n",
       "<style>\n",
       "    .dataframe thead tr:only-child th {\n",
       "        text-align: right;\n",
       "    }\n",
       "\n",
       "    .dataframe thead th {\n",
       "        text-align: left;\n",
       "    }\n",
       "\n",
       "    .dataframe tbody tr th {\n",
       "        vertical-align: top;\n",
       "    }\n",
       "</style>\n",
       "<table border=\"1\" class=\"dataframe\">\n",
       "  <thead>\n",
       "    <tr style=\"text-align: right;\">\n",
       "      <th></th>\n",
       "      <th>TotalPrice</th>\n",
       "    </tr>\n",
       "    <tr>\n",
       "      <th>CustomerID</th>\n",
       "      <th></th>\n",
       "    </tr>\n",
       "  </thead>\n",
       "  <tbody>\n",
       "    <tr>\n",
       "      <th>12347.0</th>\n",
       "      <td>224.82</td>\n",
       "    </tr>\n",
       "    <tr>\n",
       "      <th>12358.0</th>\n",
       "      <td>683.20</td>\n",
       "    </tr>\n",
       "    <tr>\n",
       "      <th>12362.0</th>\n",
       "      <td>298.44</td>\n",
       "    </tr>\n",
       "    <tr>\n",
       "      <th>12375.0</th>\n",
       "      <td>-2.08</td>\n",
       "    </tr>\n",
       "    <tr>\n",
       "      <th>12423.0</th>\n",
       "      <td>208.64</td>\n",
       "    </tr>\n",
       "  </tbody>\n",
       "</table>\n",
       "</div>"
      ],
      "text/plain": [
       "            TotalPrice\n",
       "CustomerID            \n",
       "12347.0         224.82\n",
       "12358.0         683.20\n",
       "12362.0         298.44\n",
       "12375.0          -2.08\n",
       "12423.0         208.64"
      ]
     },
     "execution_count": 26,
     "metadata": {},
     "output_type": "execute_result"
    }
   ],
   "source": [
    "# 고객 ID로 데이터를 grouping한 다음 각 고객이 거래한 금액(TotalPrice)을 모두 합쳐(sum) 계산\n",
    "monetary = data[['CustomerID', 'TotalPrice']].groupby('CustomerID').sum()\n",
    "monetary.head()"
   ]
  },
  {
   "cell_type": "code",
   "execution_count": 27,
   "metadata": {
    "collapsed": true
   },
   "outputs": [],
   "source": [
    "# Pandas Series를 list로 변환\n",
    "monetary = list(monetary['TotalPrice'])"
   ]
  },
  {
   "cell_type": "code",
   "execution_count": 28,
   "metadata": {},
   "outputs": [
    {
     "data": {
      "text/plain": [
       "263"
      ]
     },
     "execution_count": 28,
     "metadata": {},
     "output_type": "execute_result"
    }
   ],
   "source": [
    "len(monetary)"
   ]
  },
  {
   "cell_type": "code",
   "execution_count": 29,
   "metadata": {},
   "outputs": [
    {
     "data": {
      "text/plain": [
       "[224.82000000000002,\n",
       " 683.20000000000005,\n",
       " 298.44000000000005,\n",
       " -2.0800000000000001,\n",
       " 208.64000000000004,\n",
       " 2638.690000000001,\n",
       " 165.90000000000001,\n",
       " -44.780000000000001,\n",
       " 2238.5099999999998,\n",
       " -98.750000000000014]"
      ]
     },
     "execution_count": 29,
     "metadata": {},
     "output_type": "execute_result"
    }
   ],
   "source": [
    "monetary[:10]"
   ]
  },
  {
   "cell_type": "markdown",
   "metadata": {},
   "source": [
    "### Frequency 지표 계산 \n",
    "\n",
    "각 고객의 Frequency 지표를 계산\n",
    "- 고객 ID가 전체 데이터에서 몇 번 등장했는지에 따라 Frequency를 계산\n",
    "- 계산에 있어 collections의 Counter를 활용"
   ]
  },
  {
   "cell_type": "code",
   "execution_count": 30,
   "metadata": {
    "collapsed": true
   },
   "outputs": [],
   "source": [
    "from collections import Counter\n",
    "\n",
    "counts = Counter(whole_cid)\n",
    "\n",
    "# Frequency 지료를 담기 위한 리스트 생성\n",
    "frequency = []\n",
    "\n",
    "# Counter 객체의 key 값을 통해 각 고객 ID의 빈도를 리스트에 첨부\n",
    "for i in unique_cid:\n",
    "    frequency.append(counts[i])"
   ]
  },
  {
   "cell_type": "code",
   "execution_count": 31,
   "metadata": {},
   "outputs": [
    {
     "data": {
      "text/plain": [
       "263"
      ]
     },
     "execution_count": 31,
     "metadata": {},
     "output_type": "execute_result"
    }
   ],
   "source": [
    "len(frequency)"
   ]
  },
  {
   "cell_type": "code",
   "execution_count": 32,
   "metadata": {},
   "outputs": [
    {
     "data": {
      "text/plain": [
       "[11, 7, 16, 1, 17, 66, 3, 6, 38, 13]"
      ]
     },
     "execution_count": 32,
     "metadata": {},
     "output_type": "execute_result"
    }
   ],
   "source": [
    "frequency[:10]"
   ]
  },
  {
   "cell_type": "markdown",
   "metadata": {},
   "source": [
    "### RFM 테이블 작성 준비 \n",
    "RFM 데이터 프레임 생성\n",
    "- 'Monetary', 'Recency', Frequency'를 열로 갖는 판다스 데이터프레임으로 생성"
   ]
  },
  {
   "cell_type": "code",
   "execution_count": 33,
   "metadata": {
    "collapsed": true
   },
   "outputs": [],
   "source": [
    "rfm_table = pandas.DataFrame({'Recency': recency, 'Monetary': monetary, 'Frequency': frequency}, \n",
    "                            columns = ['Recency', 'Frequency', 'Monetary'], index = unique_cid)"
   ]
  },
  {
   "cell_type": "code",
   "execution_count": 34,
   "metadata": {},
   "outputs": [
    {
     "data": {
      "text/html": [
       "<div>\n",
       "<style>\n",
       "    .dataframe thead tr:only-child th {\n",
       "        text-align: right;\n",
       "    }\n",
       "\n",
       "    .dataframe thead th {\n",
       "        text-align: left;\n",
       "    }\n",
       "\n",
       "    .dataframe tbody tr th {\n",
       "        vertical-align: top;\n",
       "    }\n",
       "</style>\n",
       "<table border=\"1\" class=\"dataframe\">\n",
       "  <thead>\n",
       "    <tr style=\"text-align: right;\">\n",
       "      <th></th>\n",
       "      <th>Recency</th>\n",
       "      <th>Frequency</th>\n",
       "      <th>Monetary</th>\n",
       "    </tr>\n",
       "  </thead>\n",
       "  <tbody>\n",
       "    <tr>\n",
       "      <th>12347.0</th>\n",
       "      <td>25</td>\n",
       "      <td>11</td>\n",
       "      <td>224.82</td>\n",
       "    </tr>\n",
       "    <tr>\n",
       "      <th>12358.0</th>\n",
       "      <td>24</td>\n",
       "      <td>7</td>\n",
       "      <td>683.20</td>\n",
       "    </tr>\n",
       "    <tr>\n",
       "      <th>12362.0</th>\n",
       "      <td>26</td>\n",
       "      <td>16</td>\n",
       "      <td>298.44</td>\n",
       "    </tr>\n",
       "    <tr>\n",
       "      <th>12375.0</th>\n",
       "      <td>25</td>\n",
       "      <td>1</td>\n",
       "      <td>-2.08</td>\n",
       "    </tr>\n",
       "    <tr>\n",
       "      <th>12423.0</th>\n",
       "      <td>23</td>\n",
       "      <td>17</td>\n",
       "      <td>208.64</td>\n",
       "    </tr>\n",
       "    <tr>\n",
       "      <th>12433.0</th>\n",
       "      <td>23</td>\n",
       "      <td>66</td>\n",
       "      <td>2638.69</td>\n",
       "    </tr>\n",
       "    <tr>\n",
       "      <th>12437.0</th>\n",
       "      <td>24</td>\n",
       "      <td>3</td>\n",
       "      <td>165.90</td>\n",
       "    </tr>\n",
       "    <tr>\n",
       "      <th>12462.0</th>\n",
       "      <td>25</td>\n",
       "      <td>6</td>\n",
       "      <td>-44.78</td>\n",
       "    </tr>\n",
       "    <tr>\n",
       "      <th>12471.0</th>\n",
       "      <td>25</td>\n",
       "      <td>38</td>\n",
       "      <td>2238.51</td>\n",
       "    </tr>\n",
       "    <tr>\n",
       "      <th>12476.0</th>\n",
       "      <td>24</td>\n",
       "      <td>13</td>\n",
       "      <td>-98.75</td>\n",
       "    </tr>\n",
       "  </tbody>\n",
       "</table>\n",
       "</div>"
      ],
      "text/plain": [
       "         Recency  Frequency  Monetary\n",
       "12347.0       25         11    224.82\n",
       "12358.0       24          7    683.20\n",
       "12362.0       26         16    298.44\n",
       "12375.0       25          1     -2.08\n",
       "12423.0       23         17    208.64\n",
       "12433.0       23         66   2638.69\n",
       "12437.0       24          3    165.90\n",
       "12462.0       25          6    -44.78\n",
       "12471.0       25         38   2238.51\n",
       "12476.0       24         13    -98.75"
      ]
     },
     "execution_count": 34,
     "metadata": {},
     "output_type": "execute_result"
    }
   ],
   "source": [
    "rfm_table.head(10)"
   ]
  },
  {
   "cell_type": "markdown",
   "metadata": {},
   "source": [
    "### 세분화된 RFM 지표 계산\n",
    "RFM 규칙(rule) 작성 : 규칙을 정해 최종적인 R,F,M 지표를 계산"
   ]
  },
  {
   "cell_type": "code",
   "execution_count": 35,
   "metadata": {
    "collapsed": true
   },
   "outputs": [],
   "source": [
    "# 초기화된 R,F,M 지표 생성\n",
    "R = []\n",
    "F = []\n",
    "M = []"
   ]
  },
  {
   "cell_type": "code",
   "execution_count": 36,
   "metadata": {
    "collapsed": true
   },
   "outputs": [],
   "source": [
    "# R 지표를 위한 규칙(rule) 생성\n",
    "for r in recency:\n",
    "    if r > 25:\n",
    "        R.append(1)\n",
    "    elif r > 24:\n",
    "        R.append(2)\n",
    "    elif r > 23:\n",
    "        R.append(3)\n",
    "    else:\n",
    "        R.append(4)"
   ]
  },
  {
   "cell_type": "code",
   "execution_count": 37,
   "metadata": {
    "collapsed": true
   },
   "outputs": [],
   "source": [
    "# F 지표를 위한 규칙(rule) 생성\n",
    "for f in frequency:\n",
    "    if f < 10:\n",
    "        F.append(1)\n",
    "    elif f < 30:\n",
    "        F.append(2)\n",
    "    elif f < 50:\n",
    "        F.append(3)\n",
    "    else:\n",
    "        F.append(4)"
   ]
  },
  {
   "cell_type": "code",
   "execution_count": 38,
   "metadata": {
    "collapsed": true
   },
   "outputs": [],
   "source": [
    "# M 지표를 위한 규칙(rule) 생성\n",
    "for m in monetary:\n",
    "    if m < 1000:\n",
    "        M.append(1)\n",
    "    elif m < 2000:\n",
    "        M.append(2)\n",
    "    elif m < 3000:\n",
    "        M.append(3)\n",
    "    else:\n",
    "        M.append(4)"
   ]
  },
  {
   "cell_type": "markdown",
   "metadata": {},
   "source": [
    "### 세분화된 RFM 테이블(segmented RFM table) "
   ]
  },
  {
   "cell_type": "code",
   "execution_count": 39,
   "metadata": {
    "collapsed": true
   },
   "outputs": [],
   "source": [
    "# 초기화된 R,F,M 지표에 값 저장\n",
    "rfm_table['R'] = R\n",
    "rfm_table['F'] = F\n",
    "rfm_table['M'] = M"
   ]
  },
  {
   "cell_type": "code",
   "execution_count": 40,
   "metadata": {},
   "outputs": [
    {
     "data": {
      "text/html": [
       "<div>\n",
       "<style>\n",
       "    .dataframe thead tr:only-child th {\n",
       "        text-align: right;\n",
       "    }\n",
       "\n",
       "    .dataframe thead th {\n",
       "        text-align: left;\n",
       "    }\n",
       "\n",
       "    .dataframe tbody tr th {\n",
       "        vertical-align: top;\n",
       "    }\n",
       "</style>\n",
       "<table border=\"1\" class=\"dataframe\">\n",
       "  <thead>\n",
       "    <tr style=\"text-align: right;\">\n",
       "      <th></th>\n",
       "      <th>Recency</th>\n",
       "      <th>Frequency</th>\n",
       "      <th>Monetary</th>\n",
       "      <th>R</th>\n",
       "      <th>F</th>\n",
       "      <th>M</th>\n",
       "    </tr>\n",
       "  </thead>\n",
       "  <tbody>\n",
       "    <tr>\n",
       "      <th>12347.0</th>\n",
       "      <td>25</td>\n",
       "      <td>11</td>\n",
       "      <td>224.82</td>\n",
       "      <td>2</td>\n",
       "      <td>2</td>\n",
       "      <td>1</td>\n",
       "    </tr>\n",
       "    <tr>\n",
       "      <th>12358.0</th>\n",
       "      <td>24</td>\n",
       "      <td>7</td>\n",
       "      <td>683.20</td>\n",
       "      <td>3</td>\n",
       "      <td>1</td>\n",
       "      <td>1</td>\n",
       "    </tr>\n",
       "    <tr>\n",
       "      <th>12362.0</th>\n",
       "      <td>26</td>\n",
       "      <td>16</td>\n",
       "      <td>298.44</td>\n",
       "      <td>1</td>\n",
       "      <td>2</td>\n",
       "      <td>1</td>\n",
       "    </tr>\n",
       "    <tr>\n",
       "      <th>12375.0</th>\n",
       "      <td>25</td>\n",
       "      <td>1</td>\n",
       "      <td>-2.08</td>\n",
       "      <td>2</td>\n",
       "      <td>1</td>\n",
       "      <td>1</td>\n",
       "    </tr>\n",
       "    <tr>\n",
       "      <th>12423.0</th>\n",
       "      <td>23</td>\n",
       "      <td>17</td>\n",
       "      <td>208.64</td>\n",
       "      <td>4</td>\n",
       "      <td>2</td>\n",
       "      <td>1</td>\n",
       "    </tr>\n",
       "    <tr>\n",
       "      <th>12433.0</th>\n",
       "      <td>23</td>\n",
       "      <td>66</td>\n",
       "      <td>2638.69</td>\n",
       "      <td>4</td>\n",
       "      <td>4</td>\n",
       "      <td>3</td>\n",
       "    </tr>\n",
       "    <tr>\n",
       "      <th>12437.0</th>\n",
       "      <td>24</td>\n",
       "      <td>3</td>\n",
       "      <td>165.90</td>\n",
       "      <td>3</td>\n",
       "      <td>1</td>\n",
       "      <td>1</td>\n",
       "    </tr>\n",
       "    <tr>\n",
       "      <th>12462.0</th>\n",
       "      <td>25</td>\n",
       "      <td>6</td>\n",
       "      <td>-44.78</td>\n",
       "      <td>2</td>\n",
       "      <td>1</td>\n",
       "      <td>1</td>\n",
       "    </tr>\n",
       "    <tr>\n",
       "      <th>12471.0</th>\n",
       "      <td>25</td>\n",
       "      <td>38</td>\n",
       "      <td>2238.51</td>\n",
       "      <td>2</td>\n",
       "      <td>3</td>\n",
       "      <td>3</td>\n",
       "    </tr>\n",
       "    <tr>\n",
       "      <th>12476.0</th>\n",
       "      <td>24</td>\n",
       "      <td>13</td>\n",
       "      <td>-98.75</td>\n",
       "      <td>3</td>\n",
       "      <td>2</td>\n",
       "      <td>1</td>\n",
       "    </tr>\n",
       "  </tbody>\n",
       "</table>\n",
       "</div>"
      ],
      "text/plain": [
       "         Recency  Frequency  Monetary  R  F  M\n",
       "12347.0       25         11    224.82  2  2  1\n",
       "12358.0       24          7    683.20  3  1  1\n",
       "12362.0       26         16    298.44  1  2  1\n",
       "12375.0       25          1     -2.08  2  1  1\n",
       "12423.0       23         17    208.64  4  2  1\n",
       "12433.0       23         66   2638.69  4  4  3\n",
       "12437.0       24          3    165.90  3  1  1\n",
       "12462.0       25          6    -44.78  2  1  1\n",
       "12471.0       25         38   2238.51  2  3  3\n",
       "12476.0       24         13    -98.75  3  2  1"
      ]
     },
     "execution_count": 40,
     "metadata": {},
     "output_type": "execute_result"
    }
   ],
   "source": [
    "# 세분화된 RFM 테이블 생성\n",
    "rfm_table.head(10)"
   ]
  },
  {
   "cell_type": "markdown",
   "metadata": {},
   "source": [
    "### RFM 테이블 시각화 "
   ]
  },
  {
   "cell_type": "code",
   "execution_count": 41,
   "metadata": {
    "collapsed": true
   },
   "outputs": [],
   "source": [
    "# RFM 테이블을 엑셀 파일로 저장\n",
    "rfm_table.to_excel('data/rfm_result.xlsx')"
   ]
  },
  {
   "cell_type": "code",
   "execution_count": 42,
   "metadata": {
    "collapsed": true
   },
   "outputs": [],
   "source": [
    "# 관련 모듈 불러오기\n",
    "# import matplotlib.pyplot as plt\n",
    "from matplotlib import pyplot\n",
    "from mpl_toolkits.mplot3d import Axes3D"
   ]
  },
  {
   "cell_type": "code",
   "execution_count": 43,
   "metadata": {
    "collapsed": true
   },
   "outputs": [],
   "source": [
    "# 3차원 플롯 / matplotlib.pyplot의 figure에 3차원 plot을 추가\n",
    "fig = pyplot.figure()\n",
    "\n",
    "# plot의 위치를 111(1,1,1)로 설정한다 => 다차원 공간상에 three-dimensional하게 표현\n",
    "ax = fig.add_subplot(111, projection = '3d')"
   ]
  },
  {
   "cell_type": "code",
   "execution_count": 44,
   "metadata": {},
   "outputs": [
    {
     "data": {
      "text/plain": [
       "<matplotlib.text.Text at 0x129ac7860>"
      ]
     },
     "execution_count": 44,
     "metadata": {},
     "output_type": "execute_result"
    }
   ],
   "source": [
    "# Scatter / R,F,M 지표 데이터를 플롯에 scatter 형식으로 표현\n",
    "ax.scatter(R, F, M)\n",
    "ax.set_xlabel('R')\n",
    "ax.set_ylabel('F')\n",
    "ax.set_zlabel('M')"
   ]
  },
  {
   "cell_type": "code",
   "execution_count": 45,
   "metadata": {},
   "outputs": [
    {
     "data": {
      "image/png": "[encoded data removed]",
      "text/plain": [
       "<matplotlib.figure.Figure at 0x121e61748>"
      ]
     },
     "metadata": {},
     "output_type": "display_data"
    }
   ],
   "source": [
    "# 시각화 / 플롯을 시각화해 보여줌\n",
    "pyplot.show()"
   ]
  },
  {
   "cell_type": "code",
   "execution_count": null,
   "metadata": {
    "collapsed": true
   },
   "outputs": [],
   "source": []
  }
 ],
 "metadata": {
  "kernelspec": {
   "display_name": "Python 3",
   "language": "python",
   "name": "python3"
  },
  "language_info": {
   "codemirror_mode": {
    "name": "ipython",
    "version": 3
   },
   "file_extension": ".py",
   "mimetype": "text/x-python",
   "name": "python",
   "nbconvert_exporter": "python",
   "pygments_lexer": "ipython3",
   "version": "3.6.1"
  }
 },
 "nbformat": 4,
 "nbformat_minor": 2
}
