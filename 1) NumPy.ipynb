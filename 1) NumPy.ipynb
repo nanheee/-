{
 "cells": [
  {
   "cell_type": "markdown",
   "metadata": {},
   "source": [
    "# 171120 NumPy & Pandas 입문\n",
    "\n",
    "### 1) NumPy"
   ]
  },
  {
   "cell_type": "code",
   "execution_count": 1,
   "metadata": {},
   "outputs": [
    {
     "data": {
      "text/plain": [
       "array([1, 2, 3])"
      ]
     },
     "execution_count": 1,
     "metadata": {},
     "output_type": "execute_result"
    }
   ],
   "source": [
    "import numpy\n",
    "\n",
    "arr1 = numpy.array([1,2,3]) #1차원\n",
    "arr1"
   ]
  },
  {
   "cell_type": "code",
   "execution_count": 2,
   "metadata": {},
   "outputs": [
    {
     "name": "stdout",
     "output_type": "stream",
     "text": [
      "<class 'numpy.ndarray'>\n"
     ]
    }
   ],
   "source": [
    "print(type(arr1))"
   ]
  },
  {
   "cell_type": "code",
   "execution_count": 3,
   "metadata": {},
   "outputs": [
    {
     "data": {
      "text/plain": [
       "array([[1, 2, 3],\n",
       "       [4, 5, 6]])"
      ]
     },
     "execution_count": 3,
     "metadata": {},
     "output_type": "execute_result"
    }
   ],
   "source": [
    "arr2 = numpy.array([[1,2,3],[4,5,6]]) #다차원\n",
    "arr2"
   ]
  },
  {
   "cell_type": "code",
   "execution_count": 4,
   "metadata": {},
   "outputs": [
    {
     "data": {
      "text/plain": [
       "array([0, 1, 2, 3, 4, 5, 6, 7, 8, 9])"
      ]
     },
     "execution_count": 4,
     "metadata": {},
     "output_type": "execute_result"
    }
   ],
   "source": [
    "numpy.arange(10) #데이터 타입 : int"
   ]
  },
  {
   "cell_type": "code",
   "execution_count": 5,
   "metadata": {},
   "outputs": [
    {
     "data": {
      "text/plain": [
       "array([ 0.,  1.,  2.,  3.,  4.,  5.,  6.,  7.,  8.,  9.])"
      ]
     },
     "execution_count": 5,
     "metadata": {},
     "output_type": "execute_result"
    }
   ],
   "source": [
    "numpy.arange(10, dtype='float64')"
   ]
  },
  {
   "cell_type": "code",
   "execution_count": 6,
   "metadata": {},
   "outputs": [
    {
     "data": {
      "text/plain": [
       "array([ 0.,  1.,  2.,  3.,  4.,  5.,  6.,  7.,  8.,  9.])"
      ]
     },
     "execution_count": 6,
     "metadata": {},
     "output_type": "execute_result"
    }
   ],
   "source": [
    " numpy.arange(10.0)"
   ]
  },
  {
   "cell_type": "code",
   "execution_count": 7,
   "metadata": {},
   "outputs": [
    {
     "data": {
      "text/plain": [
       "array([3, 4, 5, 6, 7, 8, 9])"
      ]
     },
     "execution_count": 7,
     "metadata": {},
     "output_type": "execute_result"
    }
   ],
   "source": [
    "numpy.arange(3,10)"
   ]
  },
  {
   "cell_type": "code",
   "execution_count": 8,
   "metadata": {},
   "outputs": [
    {
     "data": {
      "text/plain": [
       "array([ 3.,  5.,  7.,  9.])"
      ]
     },
     "execution_count": 8,
     "metadata": {},
     "output_type": "execute_result"
    }
   ],
   "source": [
    "numpy.arange(3,10,2,dtype='float64')"
   ]
  },
  {
   "cell_type": "code",
   "execution_count": 9,
   "metadata": {},
   "outputs": [
    {
     "data": {
      "text/plain": [
       "array([], dtype=int64)"
      ]
     },
     "execution_count": 9,
     "metadata": {},
     "output_type": "execute_result"
    }
   ],
   "source": [
    "numpy.arange(3,10,-3)"
   ]
  },
  {
   "cell_type": "code",
   "execution_count": 10,
   "metadata": {},
   "outputs": [
    {
     "data": {
      "text/plain": [
       "array([10,  7,  4])"
      ]
     },
     "execution_count": 10,
     "metadata": {},
     "output_type": "execute_result"
    }
   ],
   "source": [
    "numpy.arange(10,3,-3)"
   ]
  },
  {
   "cell_type": "code",
   "execution_count": 11,
   "metadata": {},
   "outputs": [
    {
     "data": {
      "text/plain": [
       "array([[ 0.,  0.],\n",
       "       [ 0.,  0.]])"
      ]
     },
     "execution_count": 11,
     "metadata": {},
     "output_type": "execute_result"
    }
   ],
   "source": [
    "#모든 값이 0인 2x2 배열 생성\n",
    "numpy.zeros((2,2))"
   ]
  },
  {
   "cell_type": "code",
   "execution_count": 12,
   "metadata": {},
   "outputs": [
    {
     "data": {
      "text/plain": [
       "array([[ 1.,  1.]])"
      ]
     },
     "execution_count": 12,
     "metadata": {},
     "output_type": "execute_result"
    }
   ],
   "source": [
    "#모든 값이 1인 1x2 배열 생성\n",
    "numpy.ones((1,2))"
   ]
  },
  {
   "cell_type": "code",
   "execution_count": 13,
   "metadata": {},
   "outputs": [
    {
     "data": {
      "text/plain": [
       "array([[10, 10]])"
      ]
     },
     "execution_count": 13,
     "metadata": {},
     "output_type": "execute_result"
    }
   ],
   "source": [
    "#모든 값이 특정 상수인 1x2 배열 생성\n",
    "numpy.full((1,2),10)"
   ]
  },
  {
   "cell_type": "code",
   "execution_count": 14,
   "metadata": {},
   "outputs": [
    {
     "data": {
      "text/plain": [
       "array([[ 1.,  0.,  0.],\n",
       "       [ 0.,  1.,  0.],\n",
       "       [ 0.,  0.,  1.]])"
      ]
     },
     "execution_count": 14,
     "metadata": {},
     "output_type": "execute_result"
    }
   ],
   "source": [
    "#단위행렬 생성\n",
    "numpy.eye(3)"
   ]
  },
  {
   "cell_type": "code",
   "execution_count": 15,
   "metadata": {},
   "outputs": [
    {
     "data": {
      "text/plain": [
       "array([[ 0.,  1.,  0.],\n",
       "       [ 0.,  0.,  1.],\n",
       "       [ 0.,  0.,  0.]])"
      ]
     },
     "execution_count": 15,
     "metadata": {},
     "output_type": "execute_result"
    }
   ],
   "source": [
    "numpy.eye(3, k=1) #k=1만큼 이동 / 양수는 우측으로 올라감."
   ]
  },
  {
   "cell_type": "code",
   "execution_count": 16,
   "metadata": {},
   "outputs": [
    {
     "data": {
      "text/plain": [
       "array([[ 0.,  0.,  0.],\n",
       "       [ 0.,  0.,  0.],\n",
       "       [ 1.,  0.,  0.]])"
      ]
     },
     "execution_count": 16,
     "metadata": {},
     "output_type": "execute_result"
    }
   ],
   "source": [
    "numpy.eye(3, k=-2) #k=-2만큼 이동 / 음수는 좌측으로 내려감."
   ]
  },
  {
   "cell_type": "code",
   "execution_count": 17,
   "metadata": {},
   "outputs": [
    {
     "data": {
      "text/plain": [
       "array([[ 0.50511835,  0.28022338],\n",
       "       [ 0.6738009 ,  0.23081364]])"
      ]
     },
     "execution_count": 17,
     "metadata": {},
     "output_type": "execute_result"
    }
   ],
   "source": [
    "#랜덤한 값으로 채워진 2x2 배열 생성\n",
    "numpy.random.random((2,2))"
   ]
  },
  {
   "cell_type": "markdown",
   "metadata": {},
   "source": [
    "### numpy.diag\n",
    "정사각 행렬의 대각/비대각 원소를 1차원으로 배열로 반환하거나 1차원 배열을 대각선 원소로 하고, 나머지는 0으로 채운 단위 행렬을 반환한다."
   ]
  },
  {
   "cell_type": "code",
   "execution_count": 18,
   "metadata": {},
   "outputs": [
    {
     "data": {
      "text/plain": [
       "array([[ 0,  1,  2,  3],\n",
       "       [ 4,  5,  6,  7],\n",
       "       [ 8,  9, 10, 11]])"
      ]
     },
     "execution_count": 18,
     "metadata": {},
     "output_type": "execute_result"
    }
   ],
   "source": [
    "arr = numpy.array([[0,1,2,3],[4,5,6,7],[8,9,10,11]])\n",
    "arr"
   ]
  },
  {
   "cell_type": "code",
   "execution_count": 19,
   "metadata": {},
   "outputs": [
    {
     "data": {
      "text/plain": [
       "array([ 0,  5, 10])"
      ]
     },
     "execution_count": 19,
     "metadata": {},
     "output_type": "execute_result"
    }
   ],
   "source": [
    "numpy.diag(arr)"
   ]
  },
  {
   "cell_type": "code",
   "execution_count": 20,
   "metadata": {},
   "outputs": [
    {
     "data": {
      "text/plain": [
       "array([ 1,  6, 11])"
      ]
     },
     "execution_count": 20,
     "metadata": {},
     "output_type": "execute_result"
    }
   ],
   "source": [
    "numpy.diag(arr, k=1)"
   ]
  },
  {
   "cell_type": "code",
   "execution_count": 21,
   "metadata": {},
   "outputs": [
    {
     "data": {
      "text/plain": [
       "array([4, 9])"
      ]
     },
     "execution_count": 21,
     "metadata": {},
     "output_type": "execute_result"
    }
   ],
   "source": [
    "numpy.diag(arr, k=-1)"
   ]
  },
  {
   "cell_type": "code",
   "execution_count": 22,
   "metadata": {},
   "outputs": [
    {
     "data": {
      "text/plain": [
       "array([[ 1,  0,  0],\n",
       "       [ 0,  5,  0],\n",
       "       [ 0,  0, 10]])"
      ]
     },
     "execution_count": 22,
     "metadata": {},
     "output_type": "execute_result"
    }
   ],
   "source": [
    "numpy.diag([1,5,10])"
   ]
  },
  {
   "cell_type": "code",
   "execution_count": 23,
   "metadata": {},
   "outputs": [
    {
     "data": {
      "text/plain": [
       "array([[ 0,  0,  0,  0],\n",
       "       [ 1,  0,  0,  0],\n",
       "       [ 0,  5,  0,  0],\n",
       "       [ 0,  0, 10,  0]])"
      ]
     },
     "execution_count": 23,
     "metadata": {},
     "output_type": "execute_result"
    }
   ],
   "source": [
    "numpy.diag([1,5,10],k=-1)"
   ]
  },
  {
   "cell_type": "markdown",
   "metadata": {},
   "source": [
    "### 배열의 Rank와 Shape\n",
    "\n",
    "#### 1) Rank(ndim) : 배열이 몇 차원인지를 의미"
   ]
  },
  {
   "cell_type": "code",
   "execution_count": 24,
   "metadata": {},
   "outputs": [
    {
     "data": {
      "text/plain": [
       "1"
      ]
     },
     "execution_count": 24,
     "metadata": {},
     "output_type": "execute_result"
    }
   ],
   "source": [
    "arr1=numpy.array([1,2,3])\n",
    "arr1.ndim"
   ]
  },
  {
   "cell_type": "code",
   "execution_count": 29,
   "metadata": {},
   "outputs": [
    {
     "data": {
      "text/plain": [
       "2"
      ]
     },
     "execution_count": 29,
     "metadata": {},
     "output_type": "execute_result"
    }
   ],
   "source": [
    "arr2=numpy.array([[1,2,3],[4,5,6]])\n",
    "arr2.ndim"
   ]
  },
  {
   "cell_type": "code",
   "execution_count": 30,
   "metadata": {},
   "outputs": [
    {
     "data": {
      "text/plain": [
       "3"
      ]
     },
     "execution_count": 30,
     "metadata": {},
     "output_type": "execute_result"
    }
   ],
   "source": [
    "arr3=numpy.array([[[1,2,3],[4,5,6]],[[7,8,9],[10,11,12]]])\n",
    "arr3.ndim"
   ]
  },
  {
   "cell_type": "markdown",
   "metadata": {},
   "source": [
    "#### 2) Shape : 각 차원의 크기를 알려주는 튜플"
   ]
  },
  {
   "cell_type": "code",
   "execution_count": 31,
   "metadata": {},
   "outputs": [
    {
     "data": {
      "text/plain": [
       "(3,)"
      ]
     },
     "execution_count": 31,
     "metadata": {},
     "output_type": "execute_result"
    }
   ],
   "source": [
    "arr1=numpy.array([1,2,3])\n",
    "arr1.shape"
   ]
  },
  {
   "cell_type": "code",
   "execution_count": 32,
   "metadata": {},
   "outputs": [
    {
     "data": {
      "text/plain": [
       "(2, 3)"
      ]
     },
     "execution_count": 32,
     "metadata": {},
     "output_type": "execute_result"
    }
   ],
   "source": [
    "arr2=numpy.array([[1,2,3],[4,5,6]])\n",
    "arr2.shape"
   ]
  },
  {
   "cell_type": "code",
   "execution_count": 33,
   "metadata": {},
   "outputs": [
    {
     "data": {
      "text/plain": [
       "(2, 2, 3)"
      ]
     },
     "execution_count": 33,
     "metadata": {},
     "output_type": "execute_result"
    }
   ],
   "source": [
    "arr3=numpy.array([[[1,2,3],[4,5,6]],[[7,8,9],[10,11,12]]])\n",
    "arr3.shape"
   ]
  },
  {
   "cell_type": "code",
   "execution_count": 38,
   "metadata": {},
   "outputs": [
    {
     "name": "stdout",
     "output_type": "stream",
     "text": [
      "1\n",
      "(6,)\n"
     ]
    }
   ],
   "source": [
    "arr4=numpy.array([1,2,3,4,5,6])\n",
    "print(arr4.ndim) #1차원 array / rank는 [] 갯수\n",
    "print(arr4.shape) #6개"
   ]
  },
  {
   "cell_type": "code",
   "execution_count": 40,
   "metadata": {
    "scrolled": true
   },
   "outputs": [
    {
     "name": "stdout",
     "output_type": "stream",
     "text": [
      "2\n",
      "(4, 3)\n"
     ]
    }
   ],
   "source": [
    "arr5=numpy.array([[1,2,3],[4,5,6],[7,8,9],[10,11,12]])\n",
    "print(arr5.ndim) #2차원 array / rank는 [] 갯수\n",
    "print(arr5.shape) #[]가 4개, []안에 3개씩 => (4,3)"
   ]
  },
  {
   "cell_type": "code",
   "execution_count": 41,
   "metadata": {},
   "outputs": [
    {
     "name": "stdout",
     "output_type": "stream",
     "text": [
      "3\n",
      "(2, 2, 3)\n"
     ]
    }
   ],
   "source": [
    "arr6=numpy.array([[[1,2,3],[4,5,6]],[[7,8,9],[10,11,12]]])\n",
    "print(arr6.ndim) #3차원 array / rank는 [] 갯수\n",
    "print(arr6.shape) #"
   ]
  },
  {
   "cell_type": "markdown",
   "metadata": {},
   "source": [
    "\n",
    "### 배열 인덱싱\n",
    "#### 1)배열 분할(slicing)"
   ]
  },
  {
   "cell_type": "code",
   "execution_count": 42,
   "metadata": {},
   "outputs": [
    {
     "data": {
      "text/plain": [
       "1"
      ]
     },
     "execution_count": 42,
     "metadata": {},
     "output_type": "execute_result"
    }
   ],
   "source": [
    "arr1 = numpy.array([1,2,3])\n",
    "arr1[0]"
   ]
  },
  {
   "cell_type": "code",
   "execution_count": 43,
   "metadata": {},
   "outputs": [
    {
     "data": {
      "text/plain": [
       "array([4, 5, 6])"
      ]
     },
     "execution_count": 43,
     "metadata": {},
     "output_type": "execute_result"
    }
   ],
   "source": [
    "arr2 = numpy.array([[1,2,3],[4,5,6]])\n",
    "arr2[1]"
   ]
  },
  {
   "cell_type": "code",
   "execution_count": 44,
   "metadata": {},
   "outputs": [
    {
     "data": {
      "text/plain": [
       "array([4, 5, 6])"
      ]
     },
     "execution_count": 44,
     "metadata": {},
     "output_type": "execute_result"
    }
   ],
   "source": [
    "arr3 = numpy.array([[[1,2,3],[4,5,6]],[[7,8,9],[10,11,12]]])\n",
    "arr3[0][1]"
   ]
  },
  {
   "cell_type": "code",
   "execution_count": 45,
   "metadata": {},
   "outputs": [
    {
     "data": {
      "text/plain": [
       "2"
      ]
     },
     "execution_count": 45,
     "metadata": {},
     "output_type": "execute_result"
    }
   ],
   "source": [
    "arr3[0,0,1]"
   ]
  },
  {
   "cell_type": "code",
   "execution_count": 46,
   "metadata": {},
   "outputs": [
    {
     "data": {
      "text/plain": [
       "array([[1, 2, 3, 4],\n",
       "       [5, 6, 7, 8]])"
      ]
     },
     "execution_count": 46,
     "metadata": {},
     "output_type": "execute_result"
    }
   ],
   "source": [
    "arr4 = numpy.array([[1,2,3,4],[5,6,7,8],[9,10,11,12]])\n",
    "arr5 = arr4[:2,:] \n",
    "arr5"
   ]
  },
  {
   "cell_type": "markdown",
   "metadata": {},
   "source": [
    "#### 2) Boolean 배열 인덱싱\n",
    "- 특정 조건을 만족하는 요소는 True, 만족하지 않는 요소는 False로 반환.\n",
    "- 이를 통해 특정 조건을 만족하는 원소들만 취사선택해 배열로 저장할 수 있음"
   ]
  },
  {
   "cell_type": "code",
   "execution_count": 48,
   "metadata": {},
   "outputs": [
    {
     "data": {
      "text/plain": [
       "array([[False, False],\n",
       "       [False,  True],\n",
       "       [ True,  True]], dtype=bool)"
      ]
     },
     "execution_count": 48,
     "metadata": {},
     "output_type": "execute_result"
    }
   ],
   "source": [
    "arr = numpy.array([[1,2],[3,4],[5,6]])\n",
    "bidx = arr > 3\n",
    "bidx"
   ]
  },
  {
   "cell_type": "code",
   "execution_count": 49,
   "metadata": {},
   "outputs": [
    {
     "data": {
      "text/plain": [
       "array([4, 5, 6])"
      ]
     },
     "execution_count": 49,
     "metadata": {},
     "output_type": "execute_result"
    }
   ],
   "source": [
    "arr[bidx]"
   ]
  },
  {
   "cell_type": "markdown",
   "metadata": {},
   "source": [
    "### 배열 자료형\n",
    "\n",
    "int64(정수형), float64(실수형)"
   ]
  },
  {
   "cell_type": "code",
   "execution_count": 50,
   "metadata": {},
   "outputs": [
    {
     "data": {
      "text/plain": [
       "(dtype('int64'), 'int64')"
      ]
     },
     "execution_count": 50,
     "metadata": {},
     "output_type": "execute_result"
    }
   ],
   "source": [
    "arr1 = numpy.array([1])\n",
    "arr1.dtype, arr1.dtype.name"
   ]
  },
  {
   "cell_type": "code",
   "execution_count": 51,
   "metadata": {},
   "outputs": [
    {
     "data": {
      "text/plain": [
       "dtype('float64')"
      ]
     },
     "execution_count": 51,
     "metadata": {},
     "output_type": "execute_result"
    }
   ],
   "source": [
    "arr2 = numpy.array([1.0])\n",
    "arr2.dtype"
   ]
  },
  {
   "cell_type": "code",
   "execution_count": 53,
   "metadata": {
    "scrolled": true
   },
   "outputs": [
    {
     "data": {
      "text/plain": [
       "'float64'"
      ]
     },
     "execution_count": 53,
     "metadata": {},
     "output_type": "execute_result"
    }
   ],
   "source": [
    "#배열을 생성할 때 명시적으로 특정 자료형을 지정할 수 있음\n",
    "arr3 = numpy.array([1,2], dtype = numpy.float64)\n",
    "arr3.dtype.name"
   ]
  },
  {
   "cell_type": "markdown",
   "metadata": {},
   "source": [
    "### 배열 연산 "
   ]
  },
  {
   "cell_type": "code",
   "execution_count": 54,
   "metadata": {
    "collapsed": true
   },
   "outputs": [],
   "source": [
    "arr1 = numpy.array([[1,2], [3,4]], dtype = numpy.float64)\n",
    "arr2 = numpy.array([[5,6], [7,8]], dtype = numpy.float64)"
   ]
  },
  {
   "cell_type": "code",
   "execution_count": 55,
   "metadata": {},
   "outputs": [
    {
     "data": {
      "text/plain": [
       "array([[  6.,   8.],\n",
       "       [ 10.,  12.]])"
      ]
     },
     "execution_count": 55,
     "metadata": {},
     "output_type": "execute_result"
    }
   ],
   "source": [
    "arr1 + arr2 #첫번째(n11) 자릿값 = 1+5 = 6"
   ]
  },
  {
   "cell_type": "code",
   "execution_count": 56,
   "metadata": {},
   "outputs": [
    {
     "data": {
      "text/plain": [
       "array([[-4., -4.],\n",
       "       [-4., -4.]])"
      ]
     },
     "execution_count": 56,
     "metadata": {},
     "output_type": "execute_result"
    }
   ],
   "source": [
    "arr1 - arr2 #첫번째(n11) 자릿값 = 1-5 = -4"
   ]
  },
  {
   "cell_type": "code",
   "execution_count": 57,
   "metadata": {},
   "outputs": [
    {
     "data": {
      "text/plain": [
       "array([[  5.,  12.],\n",
       "       [ 21.,  32.]])"
      ]
     },
     "execution_count": 57,
     "metadata": {},
     "output_type": "execute_result"
    }
   ],
   "source": [
    "arr1 * arr2 #행렬의 곱연산이 아님 / 첫번째(n11) 자릿값 = 1x5 = 5"
   ]
  },
  {
   "cell_type": "code",
   "execution_count": 58,
   "metadata": {},
   "outputs": [
    {
     "data": {
      "text/plain": [
       "array([[ 0.2       ,  0.33333333],\n",
       "       [ 0.42857143,  0.5       ]])"
      ]
     },
     "execution_count": 58,
     "metadata": {},
     "output_type": "execute_result"
    }
   ],
   "source": [
    "arr1 / arr2 #첫번째(n11) 자릿값 = 1/5 = 0.2"
   ]
  },
  {
   "cell_type": "code",
   "execution_count": 59,
   "metadata": {},
   "outputs": [
    {
     "data": {
      "text/plain": [
       "array([[ 1.        ,  1.41421356],\n",
       "       [ 1.73205081,  2.        ]])"
      ]
     },
     "execution_count": 59,
     "metadata": {},
     "output_type": "execute_result"
    }
   ],
   "source": [
    "numpy.sqrt(arr1)"
   ]
  },
  {
   "cell_type": "markdown",
   "metadata": {},
   "source": [
    "#### 내적 및 행렬의 곱연산 - numpy.dot"
   ]
  },
  {
   "cell_type": "code",
   "execution_count": 60,
   "metadata": {},
   "outputs": [
    {
     "data": {
      "text/plain": [
       "11"
      ]
     },
     "execution_count": 60,
     "metadata": {},
     "output_type": "execute_result"
    }
   ],
   "source": [
    "#벡터의 내적\n",
    "vector1 = numpy.array([1,2])\n",
    "vector2 = numpy.array([3,4])\n",
    "\n",
    "numpy.dot(vector1, vector2) #1*3+2*4"
   ]
  },
  {
   "cell_type": "code",
   "execution_count": 61,
   "metadata": {},
   "outputs": [
    {
     "data": {
      "text/plain": [
       "array([[ 19.,  22.],\n",
       "       [ 43.,  50.]])"
      ]
     },
     "execution_count": 61,
     "metadata": {},
     "output_type": "execute_result"
    }
   ],
   "source": [
    "# 행렬의 곱연산\n",
    "arr1 = numpy.array([[1,2], [3,4]], dtype = numpy.float64)\n",
    "arr2 = numpy.array([[5,6], [7,8]], dtype = numpy.float64)\n",
    "\n",
    "numpy.dot(arr1, arr2)"
   ]
  },
  {
   "cell_type": "markdown",
   "metadata": {},
   "source": [
    "#### 배열의 합연산 - numpy.sum"
   ]
  },
  {
   "cell_type": "code",
   "execution_count": 62,
   "metadata": {},
   "outputs": [
    {
     "data": {
      "text/plain": [
       "21.0"
      ]
     },
     "execution_count": 62,
     "metadata": {},
     "output_type": "execute_result"
    }
   ],
   "source": [
    "arr = numpy.array([[1,2], [3,4],[5,6]], dtype = numpy.float64)\n",
    "numpy.sum(arr) #1+2+3+4+5+6"
   ]
  },
  {
   "cell_type": "code",
   "execution_count": 63,
   "metadata": {},
   "outputs": [
    {
     "data": {
      "text/plain": [
       "array([  9.,  12.])"
      ]
     },
     "execution_count": 63,
     "metadata": {},
     "output_type": "execute_result"
    }
   ],
   "source": [
    "numpy.sum(arr,axis=0) #axis=0 : 열에 대해 합(세로로) / 1+3+5"
   ]
  },
  {
   "cell_type": "code",
   "execution_count": 64,
   "metadata": {},
   "outputs": [
    {
     "data": {
      "text/plain": [
       "array([  3.,   7.,  11.])"
      ]
     },
     "execution_count": 64,
     "metadata": {},
     "output_type": "execute_result"
    }
   ],
   "source": [
    "numpy.sum(arr,axis=1) #axis=1 : 행에 대해 합(가로로) / 1+2"
   ]
  },
  {
   "cell_type": "code",
   "execution_count": 65,
   "metadata": {},
   "outputs": [
    {
     "data": {
      "text/plain": [
       "array([[ 1.,  2.],\n",
       "       [ 3.,  4.],\n",
       "       [ 5.,  6.]])"
      ]
     },
     "execution_count": 65,
     "metadata": {},
     "output_type": "execute_result"
    }
   ],
   "source": [
    "arr = numpy.array([[1,2], [3,4],[5,6]], dtype = numpy.float64)\n",
    "arr"
   ]
  },
  {
   "cell_type": "code",
   "execution_count": 66,
   "metadata": {},
   "outputs": [
    {
     "data": {
      "text/plain": [
       "array([[ 1.,  3.,  5.],\n",
       "       [ 2.,  4.,  6.]])"
      ]
     },
     "execution_count": 66,
     "metadata": {},
     "output_type": "execute_result"
    }
   ],
   "source": [
    "arr.T #행과 열을 바꿈"
   ]
  },
  {
   "cell_type": "markdown",
   "metadata": {},
   "source": [
    "### 배열의 Reshape\n",
    "데이터의 변화 없이 새로운 차원의 배열로 변환"
   ]
  },
  {
   "cell_type": "code",
   "execution_count": 67,
   "metadata": {},
   "outputs": [
    {
     "data": {
      "text/plain": [
       "array([[0, 1],\n",
       "       [2, 3],\n",
       "       [4, 5],\n",
       "       [6, 7],\n",
       "       [8, 9]])"
      ]
     },
     "execution_count": 67,
     "metadata": {},
     "output_type": "execute_result"
    }
   ],
   "source": [
    "arr = numpy.arange(10).reshape(5,2)\n",
    "arr #5x2배열"
   ]
  },
  {
   "cell_type": "code",
   "execution_count": 74,
   "metadata": {},
   "outputs": [
    {
     "data": {
      "text/plain": [
       "array([[0, 1, 2, 3, 4],\n",
       "       [5, 6, 7, 8, 9]])"
      ]
     },
     "execution_count": 74,
     "metadata": {},
     "output_type": "execute_result"
    }
   ],
   "source": [
    "#reshape를 이용해서 2x5 배열로 변환.\n",
    "arr = arr.reshape(2,5)\n",
    "arr"
   ]
  },
  {
   "cell_type": "code",
   "execution_count": 76,
   "metadata": {},
   "outputs": [
    {
     "data": {
      "text/plain": [
       "array([[0, 1],\n",
       "       [2, 3],\n",
       "       [4, 5],\n",
       "       [6, 7],\n",
       "       [8, 9]])"
      ]
     },
     "execution_count": 76,
     "metadata": {},
     "output_type": "execute_result"
    }
   ],
   "source": [
    "#reshape를 이용해서 5x2 배열로 변환.\n",
    "numpy.reshape(arr,(5,2))"
   ]
  },
  {
   "cell_type": "code",
   "execution_count": 77,
   "metadata": {},
   "outputs": [
    {
     "data": {
      "text/plain": [
       "array([[0, 1, 2, 3, 4],\n",
       "       [5, 6, 7, 8, 9]])"
      ]
     },
     "execution_count": 77,
     "metadata": {},
     "output_type": "execute_result"
    }
   ],
   "source": [
    "arr"
   ]
  },
  {
   "cell_type": "code",
   "execution_count": 78,
   "metadata": {},
   "outputs": [
    {
     "data": {
      "text/plain": [
       "array([[0, 5],\n",
       "       [1, 6],\n",
       "       [2, 7],\n",
       "       [3, 8],\n",
       "       [4, 9]])"
      ]
     },
     "execution_count": 78,
     "metadata": {},
     "output_type": "execute_result"
    }
   ],
   "source": [
    "#행과 열을 바꾸고 싶으면\n",
    "arr.T"
   ]
  },
  {
   "cell_type": "code",
   "execution_count": 79,
   "metadata": {},
   "outputs": [
    {
     "data": {
      "text/plain": [
       "array([0, 1, 2, 3, 4, 5, 6, 7, 8, 9])"
      ]
     },
     "execution_count": 79,
     "metadata": {},
     "output_type": "execute_result"
    }
   ],
   "source": [
    "arr = numpy.reshape(arr,10)\n",
    "arr"
   ]
  },
  {
   "cell_type": "code",
   "execution_count": 80,
   "metadata": {},
   "outputs": [
    {
     "data": {
      "text/plain": [
       "array([[0, 1, 2, 3, 4, 5, 6, 7, 8, 9]])"
      ]
     },
     "execution_count": 80,
     "metadata": {},
     "output_type": "execute_result"
    }
   ],
   "source": [
    "#배열을 1xn으로 만들고 싶을 때\n",
    "numpy.reshape(arr,(1,-1))"
   ]
  },
  {
   "cell_type": "code",
   "execution_count": 81,
   "metadata": {},
   "outputs": [
    {
     "data": {
      "text/plain": [
       "array([[0],\n",
       "       [1],\n",
       "       [2],\n",
       "       [3],\n",
       "       [4],\n",
       "       [5],\n",
       "       [6],\n",
       "       [7],\n",
       "       [8],\n",
       "       [9]])"
      ]
     },
     "execution_count": 81,
     "metadata": {},
     "output_type": "execute_result"
    }
   ],
   "source": [
    "#배열을 nx1으로 만들고 싶을 때\n",
    "numpy.reshape(arr,(-1,1))"
   ]
  },
  {
   "cell_type": "code",
   "execution_count": 82,
   "metadata": {},
   "outputs": [
    {
     "data": {
      "text/plain": [
       "array([[0, 1],\n",
       "       [2, 3],\n",
       "       [4, 5],\n",
       "       [6, 7],\n",
       "       [8, 9]])"
      ]
     },
     "execution_count": 82,
     "metadata": {},
     "output_type": "execute_result"
    }
   ],
   "source": [
    "#배열을 5xn으로 만들고 싶을 때\n",
    "numpy.reshape(arr,(5,-1))"
   ]
  },
  {
   "cell_type": "code",
   "execution_count": 83,
   "metadata": {},
   "outputs": [
    {
     "data": {
      "text/plain": [
       "array([[0, 1, 2, 3, 4],\n",
       "       [5, 6, 7, 8, 9]])"
      ]
     },
     "execution_count": 83,
     "metadata": {},
     "output_type": "execute_result"
    }
   ],
   "source": [
    "#배열을 nx5으로 만들고 싶을 때 \n",
    "numpy.reshape(arr,(-1,5))"
   ]
  },
  {
   "cell_type": "markdown",
   "metadata": {},
   "source": [
    "### 데이터 호출\n",
    "\n",
    "#### 1)수치형 데이터 불러오기\n",
    "loadtxt"
   ]
  },
  {
   "cell_type": "code",
   "execution_count": 84,
   "metadata": {},
   "outputs": [
    {
     "data": {
      "text/plain": [
       "array([[  73.,   80.,   75.,  152.],\n",
       "       [  93.,   88.,   93.,  185.],\n",
       "       [  89.,   91.,   90.,  180.],\n",
       "       [  96.,   98.,  100.,  196.],\n",
       "       [  73.,   66.,   70.,  142.],\n",
       "       [  53.,   46.,   55.,  101.],\n",
       "       [  69.,   74.,   77.,  149.],\n",
       "       [  47.,   56.,   60.,  115.],\n",
       "       [  87.,   79.,   90.,  175.],\n",
       "       [  79.,   70.,   88.,  164.],\n",
       "       [  69.,   70.,   73.,  141.],\n",
       "       [  70.,   65.,   74.,  141.],\n",
       "       [  93.,   95.,   91.,  184.],\n",
       "       [  79.,   80.,   73.,  152.],\n",
       "       [  70.,   73.,   78.,  148.],\n",
       "       [  93.,   89.,   96.,  192.],\n",
       "       [  78.,   75.,   68.,  147.],\n",
       "       [  81.,   90.,   93.,  183.],\n",
       "       [  88.,   92.,   86.,  177.],\n",
       "       [  78.,   83.,   77.,  159.],\n",
       "       [  82.,   86.,   90.,  177.],\n",
       "       [  86.,   82.,   89.,  175.],\n",
       "       [  78.,   83.,   85.,  175.],\n",
       "       [  76.,   83.,   71.,  149.],\n",
       "       [  96.,   93.,   95.,  192.]])"
      ]
     },
     "execution_count": 84,
     "metadata": {},
     "output_type": "execute_result"
    }
   ],
   "source": [
    "data = numpy.loadtxt('data/test-data.csv',delimiter = ',')\n",
    "data"
   ]
  },
  {
   "cell_type": "markdown",
   "metadata": {},
   "source": [
    "#### 2) 수치형 및 문자열 데이터 불러오기\n",
    "genfromtxt()"
   ]
  },
  {
   "cell_type": "code",
   "execution_count": 85,
   "metadata": {
    "scrolled": true
   },
   "outputs": [
    {
     "data": {
      "text/plain": [
       "array([[b'building', b'city', b'height'],\n",
       "       [b'Empire State Building', b'New York', b'381'],\n",
       "       [b'Eiffel Tower', b'Paris', b'300'],\n",
       "       [b'63 building', b'Seoul', b'250']], \n",
       "      dtype='|S21')"
      ]
     },
     "execution_count": 85,
     "metadata": {},
     "output_type": "execute_result"
    }
   ],
   "source": [
    "data = numpy.genfromtxt('data/building.csv',dtype=None, delimiter = ',')\n",
    "data"
   ]
  },
  {
   "cell_type": "markdown",
   "metadata": {},
   "source": [
    " "
   ]
  },
  {
   "cell_type": "markdown",
   "metadata": {},
   "source": [
    "## 171121 Numpy 실습"
   ]
  },
  {
   "cell_type": "markdown",
   "metadata": {},
   "source": [
    "### 실습 2-1 랜덤 벡터 생성과 정렬\n",
    "\n",
    "길이 10인 랜덤 벡터(1차원 배열)을 생성하고 이를 정렬\n",
    "오름차순과 내림차순으로 한 번씩 정렬"
   ]
  },
  {
   "cell_type": "code",
   "execution_count": 1,
   "metadata": {},
   "outputs": [
    {
     "data": {
      "text/plain": [
       "array([ 0.42606694,  0.90699913,  0.12953234,  0.49654601,  0.26652212,\n",
       "        0.00316708,  0.9560996 ,  0.61399681,  0.4142223 ,  0.82006522])"
      ]
     },
     "execution_count": 1,
     "metadata": {},
     "output_type": "execute_result"
    }
   ],
   "source": [
    "import numpy\n",
    "arr = numpy.random.random(10)\n",
    "arr"
   ]
  },
  {
   "cell_type": "code",
   "execution_count": 2,
   "metadata": {},
   "outputs": [
    {
     "data": {
      "text/plain": [
       "array([ 0.00316708,  0.12953234,  0.26652212,  0.4142223 ,  0.42606694,\n",
       "        0.49654601,  0.61399681,  0.82006522,  0.90699913,  0.9560996 ])"
      ]
     },
     "execution_count": 2,
     "metadata": {},
     "output_type": "execute_result"
    }
   ],
   "source": [
    "arr.sort() #오름차순\n",
    "arr"
   ]
  },
  {
   "cell_type": "code",
   "execution_count": 3,
   "metadata": {},
   "outputs": [
    {
     "data": {
      "text/plain": [
       "array([ 0.9560996 ,  0.90699913,  0.82006522,  0.61399681,  0.49654601,\n",
       "        0.42606694,  0.4142223 ,  0.26652212,  0.12953234,  0.00316708])"
      ]
     },
     "execution_count": 3,
     "metadata": {},
     "output_type": "execute_result"
    }
   ],
   "source": [
    "arr[::-1].sort() #내림차순 / [::-1] 자체가 뒤집어서 보겠다는 뜻. \n",
    "arr"
   ]
  },
  {
   "cell_type": "markdown",
   "metadata": {
    "collapsed": true
   },
   "source": [
    "### 실습 2-2 백터를 행렬로 변환하기\n",
    "길이 9의 벡터(1차원 배열)를 생성하고 이를 3x3 크기의 행렬로 변환"
   ]
  },
  {
   "cell_type": "code",
   "execution_count": 4,
   "metadata": {},
   "outputs": [
    {
     "data": {
      "text/plain": [
       "array([0, 1, 2, 3, 4, 5, 6, 7, 8])"
      ]
     },
     "execution_count": 4,
     "metadata": {},
     "output_type": "execute_result"
    }
   ],
   "source": [
    "import numpy\n",
    "arr = numpy.arange(9)\n",
    "arr"
   ]
  },
  {
   "cell_type": "code",
   "execution_count": 5,
   "metadata": {},
   "outputs": [
    {
     "data": {
      "text/plain": [
       "array([[0, 1, 2],\n",
       "       [3, 4, 5],\n",
       "       [6, 7, 8]])"
      ]
     },
     "execution_count": 5,
     "metadata": {},
     "output_type": "execute_result"
    }
   ],
   "source": [
    "arr = numpy.arange(9).reshape(3,3)\n",
    "arr"
   ]
  },
  {
   "cell_type": "markdown",
   "metadata": {},
   "source": [
    "### 실습 2-3 대각행렬\n",
    "실습 2-2에서 생성한 행렬을 대각행렬로 변환"
   ]
  },
  {
   "cell_type": "code",
   "execution_count": 6,
   "metadata": {},
   "outputs": [
    {
     "data": {
      "text/plain": [
       "array([[0, 3, 6],\n",
       "       [1, 4, 7],\n",
       "       [2, 5, 8]])"
      ]
     },
     "execution_count": 6,
     "metadata": {},
     "output_type": "execute_result"
    }
   ],
   "source": [
    "arr.T"
   ]
  },
  {
   "cell_type": "code",
   "execution_count": 9,
   "metadata": {},
   "outputs": [
    {
     "data": {
      "text/plain": [
       "array([0, 4, 8])"
      ]
     },
     "execution_count": 9,
     "metadata": {},
     "output_type": "execute_result"
    }
   ],
   "source": [
    "# 행렬의 주대각 원소(대각선상에 있는 원소)만 1차원 배열로 출력\n",
    "diag = numpy.diag(arr)\n",
    "diag"
   ]
  },
  {
   "cell_type": "code",
   "execution_count": 10,
   "metadata": {},
   "outputs": [
    {
     "data": {
      "text/plain": [
       "array([[0, 0, 0],\n",
       "       [0, 4, 0],\n",
       "       [0, 0, 8]])"
      ]
     },
     "execution_count": 10,
     "metadata": {},
     "output_type": "execute_result"
    }
   ],
   "source": [
    "# 3x3 대각행렬로 변환\n",
    "diag_mat = numpy.diag(numpy.diag(arr))\n",
    "diag_mat"
   ]
  },
  {
   "cell_type": "markdown",
   "metadata": {},
   "source": [
    "### 실습 2-4 행렬 정규화\n",
    "정수로 이루어진 5x5 행렬을 만들고 정규화"
   ]
  },
  {
   "cell_type": "code",
   "execution_count": 11,
   "metadata": {},
   "outputs": [
    {
     "data": {
      "text/plain": [
       "array([[97, 39, 41, 66, 71],\n",
       "       [84, 54, 61, 16, 10],\n",
       "       [52, 31,  6, 18, 90],\n",
       "       [99, 34, 86, 16, 96],\n",
       "       [80,  6,  4, 12, 13]])"
      ]
     },
     "execution_count": 11,
     "metadata": {},
     "output_type": "execute_result"
    }
   ],
   "source": [
    "#randint()함수를 이용해 1부터 100 사이의 임의의 정수로 이루어진 행렬을 생성\n",
    "import numpy\n",
    "arr = numpy.random.randint(1,100, size =(5,5))\n",
    "arr"
   ]
  },
  {
   "cell_type": "code",
   "execution_count": 15,
   "metadata": {},
   "outputs": [
    {
     "data": {
      "text/plain": [
       "array([[ 0.97894737,  0.36842105,  0.38947368,  0.65263158,  0.70526316],\n",
       "       [ 0.84210526,  0.52631579,  0.6       ,  0.12631579,  0.06315789],\n",
       "       [ 0.50526316,  0.28421053,  0.02105263,  0.14736842,  0.90526316],\n",
       "       [ 1.        ,  0.31578947,  0.86315789,  0.12631579,  0.96842105],\n",
       "       [ 0.8       ,  0.02105263,  0.        ,  0.08421053,  0.09473684]])"
      ]
     },
     "execution_count": 15,
     "metadata": {},
     "output_type": "execute_result"
    }
   ],
   "source": [
    "#행렬 내의 값들을 정규화\n",
    "arrMax, arrMin = arr.max(), arr.min()\n",
    "arr_normalized = (arr - arrMin)/(arrMax - arrMin)\n",
    "arr_normalized"
   ]
  },
  {
   "cell_type": "markdown",
   "metadata": {},
   "source": [
    "### 실습 2-5 행렬 곱"
   ]
  },
  {
   "cell_type": "code",
   "execution_count": 16,
   "metadata": {},
   "outputs": [
    {
     "data": {
      "text/plain": [
       "array([[1, 2, 3],\n",
       "       [4, 5, 6]])"
      ]
     },
     "execution_count": 16,
     "metadata": {},
     "output_type": "execute_result"
    }
   ],
   "source": [
    "import numpy\n",
    "A = numpy.array([[1,2,3],[4,5,6]])\n",
    "A #2x3 배열"
   ]
  },
  {
   "cell_type": "code",
   "execution_count": 17,
   "metadata": {},
   "outputs": [
    {
     "data": {
      "text/plain": [
       "array([[1, 2],\n",
       "       [3, 4],\n",
       "       [5, 6]])"
      ]
     },
     "execution_count": 17,
     "metadata": {},
     "output_type": "execute_result"
    }
   ],
   "source": [
    "B = numpy.array([[1,2,],[3,4],[5,6]])\n",
    "B #3x2 배열"
   ]
  },
  {
   "cell_type": "code",
   "execution_count": 18,
   "metadata": {},
   "outputs": [
    {
     "data": {
      "text/plain": [
       "array([[22, 28],\n",
       "       [49, 64]])"
      ]
     },
     "execution_count": 18,
     "metadata": {},
     "output_type": "execute_result"
    }
   ],
   "source": [
    "result = numpy.dot(A,B)\n",
    "result"
   ]
  },
  {
   "cell_type": "markdown",
   "metadata": {},
   "source": [
    "### 실습 2-6 주식 데이터 불러오기 "
   ]
  },
  {
   "cell_type": "code",
   "execution_count": 19,
   "metadata": {},
   "outputs": [
    {
     "data": {
      "text/plain": [
       "array([[  8.28659973e+02,   8.33450012e+02,   8.28349976e+02,\n",
       "          1.24770000e+06,   8.31659973e+02],\n",
       "       [  8.23020020e+02,   8.28070007e+02,   8.21655029e+02,\n",
       "          1.59780000e+06,   8.28070007e+02],\n",
       "       [  8.19929993e+02,   8.24400024e+02,   8.18979980e+02,\n",
       "          1.28170000e+06,   8.24159973e+02],\n",
       "       ..., \n",
       "       [  5.66892592e+02,   5.67002574e+02,   5.56932537e+02,\n",
       "          1.08000000e+04,   5.56972503e+02],\n",
       "       [  5.61202549e+02,   5.66432590e+02,   5.58672539e+02,\n",
       "          4.12000000e+04,   5.59992565e+02],\n",
       "       [  5.68002570e+02,   5.68002570e+02,   5.52922516e+02,\n",
       "          1.31000000e+04,   5.58462551e+02]])"
      ]
     },
     "execution_count": 19,
     "metadata": {},
     "output_type": "execute_result"
    }
   ],
   "source": [
    "import numpy\n",
    "data = numpy.loadtxt('data/stock-data.csv',delimiter = ',')\n",
    "data"
   ]
  },
  {
   "cell_type": "code",
   "execution_count": 20,
   "metadata": {},
   "outputs": [
    {
     "data": {
      "text/plain": [
       "array([[  8.28659973e+02,   8.33450012e+02,   8.28349976e+02,\n",
       "          1.24770000e+06],\n",
       "       [  8.23020020e+02,   8.28070007e+02,   8.21655029e+02,\n",
       "          1.59780000e+06],\n",
       "       [  8.19929993e+02,   8.24400024e+02,   8.18979980e+02,\n",
       "          1.28170000e+06],\n",
       "       ..., \n",
       "       [  5.66892592e+02,   5.67002574e+02,   5.56932537e+02,\n",
       "          1.08000000e+04],\n",
       "       [  5.61202549e+02,   5.66432590e+02,   5.58672539e+02,\n",
       "          4.12000000e+04],\n",
       "       [  5.68002570e+02,   5.68002570e+02,   5.52922516e+02,\n",
       "          1.31000000e+04]])"
      ]
     },
     "execution_count": 20,
     "metadata": {},
     "output_type": "execute_result"
    }
   ],
   "source": [
    "#1열부터 4열('Open','High','Low','Volume')까지의 데이터는 x_data로 저장하고 \n",
    "#5열('Close')의 데이터는 y_data로 저장\n",
    "x_data = data[: , : -1]    # :-1의 뜻 / 마지막 열 빼고 \n",
    "x_data"
   ]
  },
  {
   "cell_type": "code",
   "execution_count": 21,
   "metadata": {},
   "outputs": [
    {
     "data": {
      "text/plain": [
       "(732, 4)"
      ]
     },
     "execution_count": 21,
     "metadata": {},
     "output_type": "execute_result"
    }
   ],
   "source": [
    "x_data.shape"
   ]
  },
  {
   "cell_type": "code",
   "execution_count": 22,
   "metadata": {},
   "outputs": [
    {
     "data": {
      "text/plain": [
       "array([ 831.659973,  828.070007,  824.159973,  818.97998 ,  820.450012,\n",
       "        819.23999 ,  813.669983,  809.559998,  808.380005,  806.969971,\n",
       "        801.340027,  801.48999 ,  798.530029,  795.695007,  796.789978,\n",
       "        802.320007,  823.309998,  832.150024,  835.669983,  823.869995,\n",
       "        819.309998,  805.02002 ,  802.174988,  806.070007,  804.609985,\n",
       "        807.880005,  806.359985,  807.909973,  804.789978,  806.650024,\n",
       "        806.150024,  794.02002 ,  786.900024,  786.140015,  771.820007,\n",
       "        782.789978,  785.049988,  791.549988,  789.909973,  791.26001 ,\n",
       "        794.559998,  796.419983,  794.200012,  790.799988,  797.849976,\n",
       "        797.070007,  796.099976,  789.27002 ,  789.289978,  776.419983,\n",
       "        771.190002,  759.109985,  762.52002 ,  750.5     ,  747.919983,\n",
       "        758.039978,  770.840027,  768.23999 ,  761.679993,  760.98999 ,\n",
       "        768.27002 ,  769.200012,  760.539978,  771.22998 ,  764.47998 ,\n",
       "        758.48999 ,  736.080017,  754.02002 ,  762.559998,  785.309998,\n",
       "        790.51001 ,  782.52002 ,  762.02002 ,  762.130005,  768.700012,\n",
       "        783.609985,  784.539978,  795.369995,  795.349976,  799.070007,\n",
       "        807.669983,  813.109985,  799.369995,  796.969971,  801.5     ,\n",
       "        795.26001 ,  779.960022,  778.530029,  778.190002,  786.140015,\n",
       "        783.070007,  785.940002,  775.080017,  776.859985,  776.469971,\n",
       "        776.429993,  772.559998,  777.289978,  775.01001 ,  781.559998,\n",
       "        783.01001 ,  774.210022,  786.900024,  787.210022,  776.219971,\n",
       "        771.409973,  765.700012,  768.880005,  771.76001 ,  762.48999 ,\n",
       "        759.690002,  769.02002 ,  759.659973,  775.320007,  780.349976,\n",
       "        780.080017,  771.460022,  768.780029,  767.049988,  769.090027,\n",
       "        772.150024,  769.539978,  769.409973,  769.640015,  772.080017,\n",
       "        772.150024,  775.419983,  777.5     ,  779.909973,  777.140015,\n",
       "        782.440002,  783.219971,  784.849976,  784.679993,  784.26001 ,\n",
       "        781.76001 ,  782.219971,  771.609985,  773.179993,  771.070007,\n",
       "        772.880005,  768.789978,  745.909973,  741.77002 ,  738.419983,\n",
       "        739.77002 ,  742.73999 ,  738.630005,  741.190002,  736.960022,\n",
       "        733.780029,  719.849976,  720.950012,  716.97998 ,  720.640015,\n",
       "        715.090027,  705.630005,  695.359985,  697.77002 ,  694.950012,\n",
       "        699.210022,  692.099976,  684.109985,  680.039978,  668.26001 ,\n",
       "        675.219971,  701.869995,  697.460022,  695.940002,  693.710022,\n",
       "        691.719971,  710.359985,  718.919983,  718.27002 ,  718.359985,\n",
       "        719.409973,  728.580017,  728.280029,  716.650024,  716.549988,\n",
       "        722.340027,  730.400024,  734.150024,  735.719971,  732.659973,\n",
       "        724.119995,  725.27002 ,  720.090027,  704.23999 ,  709.73999 ,\n",
       "        700.320007,  706.630005,  706.22998 ,  716.48999 ,  710.830017,\n",
       "        713.309998,  715.289978,  723.179993,  712.900024,  711.119995,\n",
       "        701.429993,  695.700012,  692.359985,  698.210022,  693.01001 ,\n",
       "        691.02002 ,  705.840027,  708.140015,  723.150024,  718.77002 ,\n",
       "        759.140015,  752.669983,  753.929993,  766.609985,  759.      ,\n",
       "        753.200012,  751.719971,  743.090027,  736.099976,  739.150024,\n",
       "        740.280029,  745.690002,  737.799988,  745.289978,  749.909973,\n",
       "        744.950012,  750.530029,  744.77002 ,  733.530029,  735.299988,\n",
       "        738.059998,  740.75    ,  742.090027,  737.599976,  737.780029,\n",
       "        736.090027,  728.330017,  730.48999 ,  726.820007,  712.820007,\n",
       "        705.23999 ,  693.969971,  695.159973,  710.890015,  712.419983,\n",
       "        718.849976,  718.809998,  697.77002 ,  705.070007,  705.75    ,\n",
       "        699.559998,  695.849976,  706.460022,  700.909973,  697.349976,\n",
       "        708.400024,  691.      ,  682.400024,  683.109985,  684.119995,\n",
       "        678.109985,  682.73999 ,  683.570007,  708.01001 ,  726.950012,\n",
       "        764.650024,  752.      ,  742.950012,  730.960022,  699.98999 ,\n",
       "        713.039978,  711.669983,  725.25    ,  706.590027,  698.450012,\n",
       "        701.789978,  694.450012,  714.719971,  700.559998,  726.070007,\n",
       "        716.030029,  714.469971,  726.390015,  743.619995,  742.580017,\n",
       "        741.840027,  758.880005,  771.      ,  776.599976,  762.51001 ,\n",
       "        748.400024,  750.309998,  750.      ,  747.77002 ,  739.309998,\n",
       "        749.429993,  758.090027,  743.400024,  747.77002 ,  738.869995,\n",
       "        749.460022,  751.609985,  762.369995,  763.25    ,  766.809998,\n",
       "        752.539978,  762.380005,  767.039978,  742.599976,  750.26001 ,\n",
       "        748.150024,  748.280029,  755.97998 ,  756.599976,  738.409973,\n",
       "        740.      ,  725.299988,  728.960022,  717.      ,  731.22998 ,\n",
       "        735.400024,  728.320007,  724.890015,  733.76001 ,  731.25    ,\n",
       "        728.109985,  722.159973,  721.109985,  710.809998,  716.919983,\n",
       "        712.950012,  708.48999 ,  712.780029,  702.      ,  651.789978,\n",
       "        642.609985,  650.280029,  666.099976,  662.200012,  661.73999 ,\n",
       "        651.159973,  652.299988,  646.669983,  643.609985,  639.159973,\n",
       "        642.359985,  645.440002,  641.469971,  626.909973,  611.289978,\n",
       "        608.419983,  594.969971,  594.890015,  611.969971,  625.799988,\n",
       "        622.359985,  622.690002,  635.440002,  629.25    ,  642.900024,\n",
       "        635.97998 ,  635.140015,  623.23999 ,  625.77002 ,  621.349976,\n",
       "        612.719971,  614.659973,  600.700012,  606.25    ,  614.340027,\n",
       "        597.789978,  618.25    ,  630.380005,  637.609985,  628.619995,\n",
       "        582.059998,  589.609985,  612.47998 ,  646.830017,  660.900024,\n",
       "        656.130005,  660.869995,  657.119995,  656.450012,  659.559998,\n",
       "        660.780029,  633.72998 ,  635.299988,  642.679993,  643.780029,\n",
       "        629.25    ,  631.210022,  625.609985,  632.590027,  631.929993,\n",
       "        628.      ,  627.26001 ,  623.559998,  644.280029,  662.099976,\n",
       "        662.299988,  663.02002 ,  672.929993,  579.849976,  560.219971,\n",
       "        561.099976,  546.549988,  530.130005,  520.679993,  516.830017,\n",
       "        525.02002 ,  522.859985,  523.400024,  521.840027,  520.51001 ,\n",
       "        521.52002 ,  531.690002,  535.22998 ,  537.840027,  540.47998 ,\n",
       "        538.190002,  536.690002,  536.72998 ,  529.26001 ,  528.150024,\n",
       "        527.200012,  532.330017,  534.609985,  536.690002,  526.690002,\n",
       "        526.830017,  533.330017,  536.700012,  540.309998,  539.179993,\n",
       "        533.98999 ,  532.109985,  539.780029,  539.789978,  532.320007,\n",
       "        540.109985,  542.51001 ,  539.27002 ,  537.359985,  532.299988,\n",
       "        533.849976,  538.400024,  529.619995,  529.039978,  535.700012,\n",
       "        538.219971,  530.700012,  524.219971,  530.799988,  540.780029,\n",
       "        537.900024,  537.340027,  549.080017,  553.679993,  555.369995,\n",
       "        565.062561,  547.002472,  539.367458,  533.972413,  535.382408,\n",
       "        524.052386,  533.802391,  532.532429,  530.392405,  539.172466,\n",
       "        540.012416,  540.782472,  541.612446,  537.022404,  536.767432,\n",
       "        535.532417,  542.562439,  548.002468,  552.032502,  548.342512,\n",
       "        555.172522,  558.787539,  570.192597,  558.81251 ,  560.362537,\n",
       "        557.992512,  559.502513,  550.842471,  554.512509,  547.322503,\n",
       "        555.512505,  551.182515,  555.012538,  568.852557,  567.687558,\n",
       "        575.332609,  573.372583,  573.64261 ,  571.342601,  558.402511,\n",
       "        555.482516,  543.872489,  536.092424,  531.912381,  538.952441,\n",
       "        542.872432,  539.702422,  542.842443,  549.012501,  542.932472,\n",
       "        535.972405,  536.942412,  527.832406,  531.002415,  527.582391,\n",
       "        522.762349,  529.2424  ,  528.482381,  534.522445,  510.6623  ,\n",
       "        510.002318,  518.63237 ,  535.212448,  539.952437,  534.392388,\n",
       "        518.042373,  506.902294,  508.082288,  501.792271,  500.872267,\n",
       "        496.182251,  492.552239,  496.172244,  502.682285,  501.102268,\n",
       "        501.962262,  513.872306,  524.812404,  526.402397,  530.422394,\n",
       "        530.332426,  534.032392,  528.772422,  530.592416,  524.872383,\n",
       "        516.352313,  511.102319,  504.892295,  495.392242,  513.802351,\n",
       "        518.662359,  528.34241 ,  526.062353,  533.37244 ,  526.982357,\n",
       "        525.262369,  537.312445,  531.322384,  533.752389,  533.802391,\n",
       "        541.832471,  540.372473,  541.082428,  539.272471,  537.502419,\n",
       "        534.832438,  536.992415,  535.032449,  536.512399,  544.402446,\n",
       "        545.38249 ,  547.312465,  550.292501,  547.492463,  541.012473,\n",
       "        542.042458,  545.922484,  554.112486,  555.222525,  559.082538,\n",
       "        550.312514,  549.33247 ,  548.902458,  540.772435,  539.782415,\n",
       "        543.982471,  532.712427,  526.542369,  520.842349,  511.172305,\n",
       "        524.512387,  530.032409,  537.942408,  533.212394,  544.492476,\n",
       "        560.882518,  572.502582,  563.742534,  577.352614,  575.282606,\n",
       "        570.082554,  568.272597,  577.36259 ,  576.362594,  577.1026  ,\n",
       "        575.062581,  587.992634,  581.132634,  587.372648,  596.082692,\n",
       "        589.272695,  584.772622,  579.95264 ,  573.102616,  575.622589,\n",
       "        581.352659,  583.102636,  581.012615,  589.722659,  586.082672,\n",
       "        581.982621,  577.942611,  577.332601,  571.602592,  569.202577,\n",
       "        571.002557,  577.862619,  580.202654,  582.562642,  583.372664,\n",
       "        584.492618,  586.862643,  582.162619,  573.482626,  574.652582,\n",
       "        574.782577,  562.732562,  567.882551,  568.772565,  563.362525,\n",
       "        566.376589,  565.072537,  573.152619,  566.072533,  571.602592,\n",
       "        587.42265 ,  585.612633,  590.602697,  589.022681,  593.352671,\n",
       "        595.982686,  594.742713,  589.472645,  595.082696,  573.732579,\n",
       "        582.662648,  584.782659,  584.872627,  579.182645,  571.102563,\n",
       "        576.08259 ,  571.092587,  582.252649,  584.732656,  582.33766 ,\n",
       "        582.672624,  575.282606,  577.242632,  576.002598,  578.652627,\n",
       "        564.622572,  564.952579,  556.362492,  554.902495,  553.372481,\n",
       "        543.012465,  544.282488,  551.762475,  551.352476,  558.842499,\n",
       "        560.552511,  562.122552,  556.332503,  553.902499,  544.662436,\n",
       "        544.94244 ,  553.932488,  559.892559,  560.082534,  561.682564,\n",
       "        565.952575,  552.702492,  545.062459,  538.942465,  529.772418,\n",
       "        528.862391,  520.632362,  519.982324,  526.652412,  533.092437,\n",
       "        529.922427,  518.732375,  511.002313,  509.962321,  515.14233 ,\n",
       "        527.812392,  527.932411,  531.352435,  526.662388,  527.70241 ,\n",
       "        517.152359,  516.182352,  525.162363,  526.942391,  534.812425,\n",
       "        528.622414,  536.1024  ,  556.54249 ,  536.442444,  532.522392,\n",
       "        530.602392,  540.952433,  564.142557,  554.902495,  538.152456,\n",
       "        543.14246 ,  569.742571,  567.002574,  567.162558,  556.972503,\n",
       "        559.992565,  558.462551])"
      ]
     },
     "execution_count": 22,
     "metadata": {},
     "output_type": "execute_result"
    }
   ],
   "source": [
    "y_data = data[: , -1] #-1의 뜻 / 마지막 열만\n",
    "y_data"
   ]
  },
  {
   "cell_type": "code",
   "execution_count": 23,
   "metadata": {},
   "outputs": [
    {
     "data": {
      "text/plain": [
       "(732,)"
      ]
     },
     "execution_count": 23,
     "metadata": {},
     "output_type": "execute_result"
    }
   ],
   "source": [
    "y_data.shape"
   ]
  },
  {
   "cell_type": "markdown",
   "metadata": {},
   "source": [
    "### 실습 2-7 당뇨 데이터 불러오기"
   ]
  },
  {
   "cell_type": "code",
   "execution_count": 24,
   "metadata": {},
   "outputs": [
    {
     "data": {
      "text/plain": [
       "array([[-0.294118 ,  0.487437 ,  0.180328 , ..., -0.53117  , -0.0333333,\n",
       "         0.       ],\n",
       "       [-0.882353 , -0.145729 ,  0.0819672, ..., -0.766866 , -0.666667 ,\n",
       "         1.       ],\n",
       "       [-0.0588235,  0.839196 ,  0.0491803, ..., -0.492741 , -0.633333 ,\n",
       "         0.       ],\n",
       "       ..., \n",
       "       [-0.411765 ,  0.21608  ,  0.180328 , ..., -0.857387 , -0.7      ,\n",
       "         1.       ],\n",
       "       [-0.882353 ,  0.266332 , -0.0163934, ..., -0.768574 , -0.133333 ,\n",
       "         0.       ],\n",
       "       [-0.882353 , -0.0653266,  0.147541 , ..., -0.797609 , -0.933333 ,\n",
       "         1.       ]])"
      ]
     },
     "execution_count": 24,
     "metadata": {},
     "output_type": "execute_result"
    }
   ],
   "source": [
    "data = numpy.loadtxt('data/diabetes-data.csv',delimiter = ',')\n",
    "data"
   ]
  },
  {
   "cell_type": "code",
   "execution_count": 25,
   "metadata": {},
   "outputs": [
    {
     "data": {
      "text/plain": [
       "array([[-0.294118  ,  0.487437  ,  0.180328  , ...,  0.00149028,\n",
       "        -0.53117   , -0.0333333 ],\n",
       "       [-0.882353  , -0.145729  ,  0.0819672 , ..., -0.207153  ,\n",
       "        -0.766866  , -0.666667  ],\n",
       "       [-0.0588235 ,  0.839196  ,  0.0491803 , ..., -0.305514  ,\n",
       "        -0.492741  , -0.633333  ],\n",
       "       ..., \n",
       "       [-0.411765  ,  0.21608   ,  0.180328  , ..., -0.219076  ,\n",
       "        -0.857387  , -0.7       ],\n",
       "       [-0.882353  ,  0.266332  , -0.0163934 , ..., -0.102832  ,\n",
       "        -0.768574  , -0.133333  ],\n",
       "       [-0.882353  , -0.0653266 ,  0.147541  , ..., -0.0938897 ,\n",
       "        -0.797609  , -0.933333  ]])"
      ]
     },
     "execution_count": 25,
     "metadata": {},
     "output_type": "execute_result"
    }
   ],
   "source": [
    "#1열부터 8열까지의 데이터는 x_data로 저장하고 9열의 데이터는 y_data로 저장\n",
    "x_data = data[: , :-1]\n",
    "x_data"
   ]
  },
  {
   "cell_type": "code",
   "execution_count": 26,
   "metadata": {},
   "outputs": [
    {
     "data": {
      "text/plain": [
       "(759, 8)"
      ]
     },
     "execution_count": 26,
     "metadata": {},
     "output_type": "execute_result"
    }
   ],
   "source": [
    "x_data.shape"
   ]
  },
  {
   "cell_type": "code",
   "execution_count": 27,
   "metadata": {},
   "outputs": [
    {
     "data": {
      "text/plain": [
       "array([ 0.,  1.,  0.,  1.,  0.,  1.,  0.,  1.,  0.,  0.,  1.,  0.,  1.,\n",
       "        0.,  0.,  0.,  0.,  1.,  0.,  1.,  1.,  0.,  0.,  0.,  0.,  1.,\n",
       "        1.,  1.,  1.,  0.,  1.,  1.,  1.,  1.,  1.,  0.,  0.,  0.,  1.,\n",
       "        1.,  1.,  0.,  1.,  0.,  1.,  1.,  0.,  1.,  1.,  1.,  1.,  0.,\n",
       "        1.,  1.,  0.,  1.,  1.,  1.,  1.,  0.,  1.,  1.,  0.,  1.,  0.,\n",
       "        1.,  1.,  1.,  0.,  1.,  0.,  1.,  1.,  1.,  1.,  1.,  0.,  1.,\n",
       "        1.,  1.,  1.,  1.,  0.,  1.,  1.,  1.,  0.,  1.,  1.,  1.,  1.,\n",
       "        0.,  1.,  1.,  1.,  1.,  1.,  0.,  0.,  1.,  1.,  1.,  1.,  1.,\n",
       "        1.,  1.,  1.,  0.,  0.,  0.,  1.,  1.,  0.,  0.,  0.,  1.,  1.,\n",
       "        1.,  0.,  1.,  1.,  1.,  0.,  0.,  1.,  1.,  0.,  0.,  0.,  0.,\n",
       "        0.,  1.,  1.,  1.,  1.,  1.,  1.,  1.,  1.,  1.,  1.,  0.,  1.,\n",
       "        1.,  1.,  1.,  1.,  1.,  1.,  1.,  0.,  1.,  0.,  0.,  1.,  1.,\n",
       "        1.,  0.,  1.,  1.,  1.,  1.,  0.,  0.,  1.,  1.,  1.,  1.,  0.,\n",
       "        0.,  1.,  1.,  1.,  0.,  1.,  0.,  1.,  0.,  1.,  1.,  1.,  1.,\n",
       "        1.,  0.,  0.,  0.,  0.,  0.,  1.,  1.,  0.,  0.,  1.,  0.,  1.,\n",
       "        0.,  0.,  0.,  1.,  1.,  1.,  1.,  1.,  1.,  0.,  0.,  1.,  0.,\n",
       "        1.,  1.,  1.,  0.,  0.,  0.,  0.,  1.,  0.,  0.,  0.,  0.,  1.,\n",
       "        1.,  1.,  1.,  1.,  0.,  1.,  1.,  0.,  0.,  1.,  1.,  1.,  0.,\n",
       "        0.,  0.,  1.,  1.,  1.,  0.,  0.,  1.,  0.,  1.,  1.,  1.,  1.,\n",
       "        1.,  1.,  1.,  1.,  0.,  0.,  1.,  1.,  1.,  1.,  0.,  1.,  1.,\n",
       "        0.,  1.,  0.,  1.,  1.,  0.,  0.,  1.,  1.,  1.,  1.,  1.,  0.,\n",
       "        1.,  1.,  1.,  0.,  1.,  1.,  0.,  0.,  1.,  0.,  1.,  1.,  1.,\n",
       "        0.,  0.,  0.,  1.,  1.,  0.,  1.,  0.,  1.,  0.,  0.,  1.,  0.,\n",
       "        1.,  1.,  0.,  1.,  0.,  0.,  1.,  1.,  0.,  1.,  0.,  1.,  1.,\n",
       "        0.,  1.,  0.,  1.,  0.,  0.,  0.,  1.,  1.,  0.,  1.,  0.,  1.,\n",
       "        1.,  1.,  0.,  1.,  1.,  1.,  1.,  0.,  0.,  0.,  1.,  1.,  1.,\n",
       "        1.,  1.,  1.,  1.,  1.,  1.,  0.,  1.,  1.,  1.,  1.,  1.,  0.,\n",
       "        0.,  0.,  1.,  0.,  0.,  1.,  1.,  0.,  1.,  1.,  0.,  1.,  1.,\n",
       "        0.,  0.,  1.,  1.,  1.,  1.,  0.,  1.,  1.,  0.,  1.,  1.,  1.,\n",
       "        1.,  1.,  1.,  1.,  0.,  0.,  0.,  1.,  1.,  0.,  1.,  1.,  0.,\n",
       "        1.,  1.,  0.,  1.,  0.,  0.,  0.,  1.,  0.,  1.,  0.,  1.,  0.,\n",
       "        0.,  1.,  1.,  1.,  1.,  0.,  0.,  1.,  0.,  1.,  0.,  1.,  1.,\n",
       "        1.,  1.,  0.,  0.,  1.,  0.,  1.,  0.,  1.,  1.,  1.,  1.,  1.,\n",
       "        0.,  1.,  1.,  1.,  1.,  0.,  1.,  1.,  0.,  0.,  0.,  1.,  1.,\n",
       "        0.,  1.,  1.,  0.,  1.,  1.,  1.,  0.,  1.,  1.,  1.,  1.,  1.,\n",
       "        1.,  1.,  1.,  1.,  1.,  1.,  0.,  1.,  1.,  1.,  1.,  1.,  1.,\n",
       "        1.,  0.,  1.,  1.,  1.,  0.,  1.,  1.,  1.,  0.,  0.,  1.,  1.,\n",
       "        1.,  1.,  1.,  1.,  1.,  0.,  1.,  1.,  1.,  1.,  0.,  1.,  1.,\n",
       "        1.,  0.,  1.,  1.,  1.,  0.,  1.,  1.,  1.,  0.,  1.,  1.,  1.,\n",
       "        1.,  0.,  0.,  1.,  1.,  1.,  1.,  1.,  0.,  1.,  1.,  1.,  1.,\n",
       "        1.,  1.,  1.,  1.,  1.,  1.,  1.,  0.,  1.,  1.,  1.,  0.,  0.,\n",
       "        0.,  0.,  1.,  1.,  0.,  0.,  1.,  1.,  1.,  1.,  1.,  1.,  1.,\n",
       "        1.,  1.,  1.,  1.,  1.,  1.,  0.,  0.,  1.,  1.,  1.,  1.,  1.,\n",
       "        1.,  1.,  0.,  1.,  1.,  1.,  1.,  1.,  1.,  1.,  0.,  1.,  0.,\n",
       "        0.,  1.,  1.,  1.,  0.,  1.,  0.,  1.,  0.,  1.,  0.,  1.,  0.,\n",
       "        1.,  1.,  0.,  1.,  1.,  0.,  1.,  1.,  1.,  1.,  0.,  0.,  1.,\n",
       "        0.,  1.,  1.,  1.,  1.,  0.,  0.,  1.,  0.,  1.,  1.,  1.,  0.,\n",
       "        0.,  1.,  1.,  1.,  1.,  1.,  1.,  1.,  1.,  1.,  1.,  0.,  1.,\n",
       "        1.,  1.,  1.,  0.,  1.,  1.,  0.,  1.,  1.,  1.,  0.,  1.,  1.,\n",
       "        1.,  0.,  0.,  0.,  1.,  1.,  1.,  1.,  1.,  1.,  0.,  1.,  1.,\n",
       "        0.,  1.,  0.,  0.,  0.,  0.,  1.,  0.,  0.,  1.,  1.,  1.,  1.,\n",
       "        1.,  1.,  1.,  0.,  0.,  1.,  0.,  1.,  1.,  0.,  1.,  0.,  1.,\n",
       "        1.,  1.,  1.,  1.,  0.,  1.,  0.,  1.,  0.,  1.,  0.,  0.,  1.,\n",
       "        1.,  1.,  1.,  0.,  0.,  1.,  1.,  1.,  0.,  1.,  0.,  0.,  1.,\n",
       "        1.,  0.,  1.,  1.,  0.,  0.,  1.,  1.,  0.,  1.,  1.,  0.,  1.,\n",
       "        1.,  1.,  1.,  1.,  1.,  1.,  0.,  0.,  0.,  1.,  1.,  1.,  1.,\n",
       "        1.,  1.,  0.,  0.,  1.,  1.,  0.,  1.,  1.,  0.,  1.,  0.,  0.,\n",
       "        0.,  1.,  1.,  0.,  0.,  0.,  1.,  0.,  1.,  0.,  1.,  0.,  1.,\n",
       "        1.,  1.,  1.,  0.,  1.])"
      ]
     },
     "execution_count": 27,
     "metadata": {},
     "output_type": "execute_result"
    }
   ],
   "source": [
    "y_data = data[: , -1]\n",
    "y_data"
   ]
  },
  {
   "cell_type": "code",
   "execution_count": 28,
   "metadata": {},
   "outputs": [
    {
     "data": {
      "text/plain": [
       "(759,)"
      ]
     },
     "execution_count": 28,
     "metadata": {},
     "output_type": "execute_result"
    }
   ],
   "source": [
    "y_data.shape"
   ]
  },
  {
   "cell_type": "code",
   "execution_count": null,
   "metadata": {
    "collapsed": true
   },
   "outputs": [],
   "source": []
  }
 ],
 "metadata": {
  "kernelspec": {
   "display_name": "Python 3",
   "language": "python",
   "name": "python3"
  },
  "language_info": {
   "codemirror_mode": {
    "name": "ipython",
    "version": 3
   },
   "file_extension": ".py",
   "mimetype": "text/x-python",
   "name": "python",
   "nbconvert_exporter": "python",
   "pygments_lexer": "ipython3",
   "version": "3.6.1"
  }
 },
 "nbformat": 4,
 "nbformat_minor": 2
}
